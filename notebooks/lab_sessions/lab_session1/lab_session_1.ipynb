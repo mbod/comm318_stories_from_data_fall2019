{
 "cells": [
  {
   "cell_type": "markdown",
   "metadata": {},
   "source": [
    "# Lab Session 1 - Getting started, with Markdown and Python \n",
    "## Objectives\n",
    "\n",
    "* **Become familiar with using Jupyter Notebooks** \n",
    "    * navigating your notebook server, creating new notebooks and folders, uploading files, etc. \n",
    "    * creating a text file\n",
    "    * using cells - adding, setting type, executing\n",
    "    * documenting your code with Markdown cells, formatting, using images and links\n",
    "    * running code cells\n",
    "     \n",
    "      \n",
    "* **Working with Python**\n",
    "    * creating a text object (string) and assigning a named pointer (variable)\n",
    "    * viewing an object vs using `print()` function\n",
    "    * using the `len()` function\n",
    "    * using string methods/functions\n",
    "    * indexing and slicing\n",
    "    \n"
   ]
  },
  {
   "cell_type": "markdown",
   "metadata": {},
   "source": [
    "## 1. Become familiar with using Jupyter Notebooks"
   ]
  },
  {
   "cell_type": "markdown",
   "metadata": {},
   "source": [
    "### Tasks\n",
    "\n",
    "* __Using text files__\n",
    "    * Create an empty text file (New > Text file)\n",
    "    * Rename it\n",
    "    * Add some text\n",
    "    * Save it\n",
    "    \n",
    "    \n",
    "* __Using folders__\n",
    "    * Create a new folder (New > Text file)\n",
    "    * Rename it (select checkbox and use rename icon)\n",
    "    * Move the text file you created into the folder\n",
    "    * It will be a good idea to have a folder called **data** in your top level directory to keep corpus files\n",
    "    \n",
    "    \n",
    "* __Uploading__\n",
    "    * Create or a find a text file and an image file on your computer\n",
    "    * Upload them your Jupyter server space (using Upload icon)\n",
    "    \n",
    "    \n",
    "    \n",
    "* __Create a Python notebook__\n",
    "    * Create a new Python notebook\n",
    "    * Rename it\n",
    "    * Play around adding and deleting cells (try using both the menu items and icons but also the keyboard shortcuts)\n",
    "    * Create a Markdown cell and use Markdown to produce the following:\n",
    "    \n",
    "    ![](img/markdown_ex1.png)\n",
    "\n",
    "      **N.B.** the horizontal rule between the Level 1 and Level 2 headings\n",
    "      \n",
    "      These links could help: \n",
    "      \n",
    "         * https://daringfireball.net/projects/markdown\n",
    "         * http://jupyter-notebook.readthedocs.io/en/stable/examples/Notebook/Working%20With%20Markdown%20Cells.html\n",
    "      \n",
    "    * Add a Markdown cell and:\n",
    "        * Include the image file you uploaded above\n",
    "        * Add a hyperlink to this news story:\n",
    "            * https://www.theguardian.com/news/datablog/2019/aug/24/family-separation-immigration-kids-mental-health-trump\n",
    "            * While you are at it copy the text of that news story and save it in a text file in your **data** folder"
   ]
  },
  {
   "cell_type": "markdown",
   "metadata": {},
   "source": [
    "## 2. Working with text in Python"
   ]
  },
  {
   "cell_type": "markdown",
   "metadata": {},
   "source": [
    "* Text can be used in Python by creating a string object. A piece of text is surrounded by matching quotes--either\n",
    "    * single `' some text '` \n",
    "    * or double `\" some more \"`\n",
    "    * but not `\" like this '`"
   ]
  },
  {
   "cell_type": "code",
   "execution_count": 39,
   "metadata": {},
   "outputs": [
    {
     "data": {
      "text/plain": [
       "'some text'"
      ]
     },
     "execution_count": 39,
     "metadata": {},
     "output_type": "execute_result"
    }
   ],
   "source": [
    "'some text'"
   ]
  },
  {
   "cell_type": "code",
   "execution_count": 38,
   "metadata": {},
   "outputs": [
    {
     "data": {
      "text/plain": [
       "'some more'"
      ]
     },
     "execution_count": 38,
     "metadata": {},
     "output_type": "execute_result"
    }
   ],
   "source": [
    "\"some more\""
   ]
  },
  {
   "cell_type": "code",
   "execution_count": 40,
   "metadata": {},
   "outputs": [
    {
     "ename": "SyntaxError",
     "evalue": "EOL while scanning string literal (<ipython-input-40-6d1922882682>, line 1)",
     "output_type": "error",
     "traceback": [
      "\u001b[0;36m  File \u001b[0;32m\"<ipython-input-40-6d1922882682>\"\u001b[0;36m, line \u001b[0;32m1\u001b[0m\n\u001b[0;31m    \"like this'\u001b[0m\n\u001b[0m               ^\u001b[0m\n\u001b[0;31mSyntaxError\u001b[0m\u001b[0;31m:\u001b[0m EOL while scanning string literal\n"
     ]
    }
   ],
   "source": [
    "\"like this'"
   ]
  },
  {
   "cell_type": "markdown",
   "metadata": {},
   "source": [
    "* To make it easier to access and work on the text data we can assign a _named pointer_ (similar to a variable in other languages but not exactly the same thing)."
   ]
  },
  {
   "cell_type": "code",
   "execution_count": 42,
   "metadata": {},
   "outputs": [
    {
     "data": {
      "text/plain": [
       "'some text'"
      ]
     },
     "execution_count": 42,
     "metadata": {},
     "output_type": "execute_result"
    }
   ],
   "source": [
    "text = \"some text\"\n",
    "text"
   ]
  },
  {
   "cell_type": "markdown",
   "metadata": {},
   "source": [
    "* The name you use for a pointer should be useful to remind you (and others who look at your code) what the data. \n",
    "* So \n",
    "    * single character names are not a great idea\n",
    "    * but neither are really long ones\n",
    "    * the convention is to use lowercase and underscores between words, e.g.\n",
    "        * `some_text = \"abc\"`\n",
    "        * instead of `someText = \"abc\"`"
   ]
  },
  {
   "cell_type": "code",
   "execution_count": null,
   "metadata": {},
   "outputs": [],
   "source": []
  },
  {
   "cell_type": "markdown",
   "metadata": {},
   "source": [
    "### TASK\n",
    "\n",
    "* create or copy 3 or 4 sentences and put them into Python objects with named pointers `sent1`, `sent2`, ..etc.."
   ]
  },
  {
   "cell_type": "code",
   "execution_count": null,
   "metadata": {},
   "outputs": [],
   "source": []
  },
  {
   "cell_type": "markdown",
   "metadata": {},
   "source": [
    "* __DISPLAY THEM__\n",
    "\n",
    "    1. by entering the name and executing the cell\n",
    "    2. using the `print()` function  \n",
    "    \n",
    "  _What is the difference?_"
   ]
  },
  {
   "cell_type": "code",
   "execution_count": null,
   "metadata": {},
   "outputs": [],
   "source": []
  },
  {
   "cell_type": "markdown",
   "metadata": {},
   "source": [
    "### TASK\n",
    "\n",
    "* use the `len()` function on your sentence objects to count the number of characters\n",
    "* change one of your sentences into all uppercase using the `.upper()` function\n",
    "* change another into all lowercase using the `.lower()` function"
   ]
  },
  {
   "cell_type": "code",
   "execution_count": null,
   "metadata": {},
   "outputs": [],
   "source": []
  },
  {
   "cell_type": "code",
   "execution_count": 44,
   "metadata": {},
   "outputs": [
    {
     "data": {
      "text/plain": [
       "'this is a sentence'"
      ]
     },
     "execution_count": 44,
     "metadata": {},
     "output_type": "execute_result"
    }
   ],
   "source": [
    "sent=\"This is a SENTENCE\"\n",
    "sent.lower()"
   ]
  },
  {
   "cell_type": "code",
   "execution_count": 45,
   "metadata": {},
   "outputs": [
    {
     "data": {
      "text/plain": [
       "'This is a SENTENCE'"
      ]
     },
     "execution_count": 45,
     "metadata": {},
     "output_type": "execute_result"
    }
   ],
   "source": [
    "sent"
   ]
  },
  {
   "cell_type": "markdown",
   "metadata": {},
   "source": [
    "* **N.B.** how the case of the object has not been permanently changed\n",
    "* _How would you store the result of the case change function?_"
   ]
  },
  {
   "cell_type": "code",
   "execution_count": null,
   "metadata": {},
   "outputs": [],
   "source": []
  },
  {
   "cell_type": "markdown",
   "metadata": {},
   "source": [
    "### TASK\n",
    "\n",
    "* Try using some other string functions like:\n",
    "    * `.title()`\n",
    "    * `.swapcase()`\n",
    "    * `.capitalize()`\n",
    "    * `.islower()`\n",
    "    * `.startswith()`\n",
    "    * `.count()`\n",
    "    * _What's the difference between_ `.find()` _and_ `.index()` _and_ `.rfind()`?"
   ]
  },
  {
   "cell_type": "code",
   "execution_count": null,
   "metadata": {},
   "outputs": [],
   "source": []
  },
  {
   "cell_type": "markdown",
   "metadata": {},
   "source": [
    "  \n",
    "* Use `dir(str)` to get a list of the functions/methods that are available for strings and try and figure out what some of them do and how to use them\n",
    "* The `help()` function or putting a `?` next to it will give you access to the documentation, e.g.\n",
    "    * `help(sent.islower)`\n",
    "    * `sent.islower?`\n",
    "    * `?sent.title`"
   ]
  },
  {
   "cell_type": "markdown",
   "metadata": {},
   "source": [
    "## 3. Working with numbers in Python\n",
    "\n",
    "* Most of the data we will encounter will be numeric.\n",
    "\n",
    "\n",
    "* Numbers are also objects in Python but have fewer functions associated with them.\n",
    "\n",
    "\n",
    "* You can create calculations like this:"
   ]
  },
  {
   "cell_type": "code",
   "execution_count": 6,
   "metadata": {},
   "outputs": [
    {
     "data": {
      "text/plain": [
       "-99.73"
      ]
     },
     "execution_count": 6,
     "metadata": {},
     "output_type": "execute_result"
    }
   ],
   "source": [
    "1 + 3 * (15/2) - 123.23"
   ]
  },
  {
   "cell_type": "markdown",
   "metadata": {},
   "source": [
    "* You can assign a pointer to a number object (here a pointer called `a_number`) so that you can use it in other calculations and code steps."
   ]
  },
  {
   "cell_type": "code",
   "execution_count": 1,
   "metadata": {},
   "outputs": [],
   "source": [
    "a_number = 15"
   ]
  },
  {
   "cell_type": "code",
   "execution_count": 2,
   "metadata": {},
   "outputs": [],
   "source": [
    "another_number = 27.3"
   ]
  },
  {
   "cell_type": "code",
   "execution_count": 3,
   "metadata": {},
   "outputs": [
    {
     "data": {
      "text/plain": [
       "42.3"
      ]
     },
     "execution_count": 3,
     "metadata": {},
     "output_type": "execute_result"
    }
   ],
   "source": [
    "a_number + another_number"
   ]
  },
  {
   "cell_type": "code",
   "execution_count": 4,
   "metadata": {},
   "outputs": [
    {
     "data": {
      "text/plain": [
       "0.5494505494505494"
      ]
     },
     "execution_count": 4,
     "metadata": {},
     "output_type": "execute_result"
    }
   ],
   "source": [
    "a_number / another_number"
   ]
  },
  {
   "cell_type": "markdown",
   "metadata": {},
   "source": [
    "## 4. Working with lists of numbers\n",
    "\n",
    "* A `list` is a Python object that is an __ORDERED SEQUENCE OF OBJECTS__.\n",
    "\n",
    "\n",
    "* In other words a list is a simple way of keeping an group of things, like numbers representing some measurement, in a fixed order."
   ]
  },
  {
   "cell_type": "code",
   "execution_count": 8,
   "metadata": {},
   "outputs": [],
   "source": [
    "a_list = [1,3,5,11,22,152]"
   ]
  },
  {
   "cell_type": "code",
   "execution_count": 9,
   "metadata": {},
   "outputs": [
    {
     "data": {
      "text/plain": [
       "[1, 3, 5, 11, 22, 152]"
      ]
     },
     "execution_count": 9,
     "metadata": {},
     "output_type": "execute_result"
    }
   ],
   "source": [
    "a_list"
   ]
  },
  {
   "cell_type": "markdown",
   "metadata": {},
   "source": [
    "* You can find out how many items are in the list with the `len()` function"
   ]
  },
  {
   "cell_type": "code",
   "execution_count": 10,
   "metadata": {},
   "outputs": [
    {
     "data": {
      "text/plain": [
       "6"
      ]
     },
     "execution_count": 10,
     "metadata": {},
     "output_type": "execute_result"
    }
   ],
   "source": [
    "len(a_list)"
   ]
  },
  {
   "cell_type": "markdown",
   "metadata": {},
   "source": [
    "#### Indexing and slicing a list\n",
    "\n",
    "* An important concept is the way you can access one or more items in a list.\n",
    "\n",
    "\n",
    "* Each item in a list has an index number __BEGINNING AT ZERO__.\n",
    "\n",
    "\n",
    "* __NOTE WELL!!!__: The first item in a list has an __INDEX OF `0`__\n",
    "\n",
    "\n",
    "* You use the square bracket syntax to index a list, like this:"
   ]
  },
  {
   "cell_type": "code",
   "execution_count": 15,
   "metadata": {},
   "outputs": [
    {
     "data": {
      "text/plain": [
       "[1, 3, 5, 11, 22, 152]"
      ]
     },
     "execution_count": 15,
     "metadata": {},
     "output_type": "execute_result"
    }
   ],
   "source": [
    "# lets remind ourselves of what the list looks like\n",
    "\n",
    "a_list"
   ]
  },
  {
   "cell_type": "code",
   "execution_count": 16,
   "metadata": {},
   "outputs": [
    {
     "data": {
      "text/plain": [
       "1"
      ]
     },
     "execution_count": 16,
     "metadata": {},
     "output_type": "execute_result"
    }
   ],
   "source": [
    "# access the first item in the list with the index 0\n",
    "\n",
    "a_list[0]"
   ]
  },
  {
   "cell_type": "code",
   "execution_count": 17,
   "metadata": {},
   "outputs": [
    {
     "data": {
      "text/plain": [
       "3"
      ]
     },
     "execution_count": 17,
     "metadata": {},
     "output_type": "execute_result"
    }
   ],
   "source": [
    "# access the second item in the list with the index 1\n",
    "\n",
    "a_list[1]"
   ]
  },
  {
   "cell_type": "code",
   "execution_count": 13,
   "metadata": {},
   "outputs": [
    {
     "data": {
      "text/plain": [
       "5"
      ]
     },
     "execution_count": 13,
     "metadata": {},
     "output_type": "execute_result"
    }
   ],
   "source": [
    "a_list[2]"
   ]
  },
  {
   "cell_type": "markdown",
   "metadata": {},
   "source": [
    "* You will get an error if you try and access an item that doesn't exist.\n",
    "\n",
    "\n",
    "* There are 6 items in the list so indices `0,1,2,3,4,5`\n",
    "\n",
    "\n",
    "* So this is trying to access the 7th item"
   ]
  },
  {
   "cell_type": "code",
   "execution_count": 18,
   "metadata": {},
   "outputs": [
    {
     "ename": "IndexError",
     "evalue": "list index out of range",
     "output_type": "error",
     "traceback": [
      "\u001b[0;31m---------------------------------------------------------------------------\u001b[0m",
      "\u001b[0;31mIndexError\u001b[0m                                Traceback (most recent call last)",
      "\u001b[0;32m<ipython-input-18-6ac097c0a2a1>\u001b[0m in \u001b[0;36m<module>\u001b[0;34m()\u001b[0m\n\u001b[0;32m----> 1\u001b[0;31m \u001b[0ma_list\u001b[0m\u001b[0;34m[\u001b[0m\u001b[0;36m6\u001b[0m\u001b[0;34m]\u001b[0m\u001b[0;34m\u001b[0m\u001b[0;34m\u001b[0m\u001b[0m\n\u001b[0m",
      "\u001b[0;31mIndexError\u001b[0m: list index out of range"
     ]
    }
   ],
   "source": [
    "a_list[6]"
   ]
  },
  {
   "cell_type": "markdown",
   "metadata": {},
   "source": [
    "* You can use a __negative index__ to start from the end of the list instead of the beginning"
   ]
  },
  {
   "cell_type": "code",
   "execution_count": 21,
   "metadata": {
    "scrolled": true
   },
   "outputs": [
    {
     "data": {
      "text/plain": [
       "152"
      ]
     },
     "execution_count": 21,
     "metadata": {},
     "output_type": "execute_result"
    }
   ],
   "source": [
    "a_list[-1]"
   ]
  },
  {
   "cell_type": "code",
   "execution_count": 22,
   "metadata": {},
   "outputs": [
    {
     "data": {
      "text/plain": [
       "22"
      ]
     },
     "execution_count": 22,
     "metadata": {},
     "output_type": "execute_result"
    }
   ],
   "source": [
    "a_list[-2]"
   ]
  },
  {
   "cell_type": "markdown",
   "metadata": {},
   "source": [
    "* __SLICING__ is a way to return a subsequence of a list with the syntax:\n",
    "\n",
    "\n",
    "    * `LIST[start_index:end_point_index]`"
   ]
  },
  {
   "cell_type": "code",
   "execution_count": 19,
   "metadata": {},
   "outputs": [
    {
     "data": {
      "text/plain": [
       "[1, 3]"
      ]
     },
     "execution_count": 19,
     "metadata": {},
     "output_type": "execute_result"
    }
   ],
   "source": [
    "a_list[0:2]"
   ]
  },
  {
   "cell_type": "code",
   "execution_count": 20,
   "metadata": {},
   "outputs": [
    {
     "data": {
      "text/plain": [
       "[5, 11, 22]"
      ]
     },
     "execution_count": 20,
     "metadata": {},
     "output_type": "execute_result"
    }
   ],
   "source": [
    "a_list[2:5]"
   ]
  },
  {
   "cell_type": "markdown",
   "metadata": {},
   "source": [
    "### Some final fun..."
   ]
  },
  {
   "cell_type": "code",
   "execution_count": 33,
   "metadata": {},
   "outputs": [],
   "source": [
    "%matplotlib inline\n",
    "import matplotlib.pyplot as plt\n",
    "import pandas as pd"
   ]
  },
  {
   "cell_type": "code",
   "execution_count": 34,
   "metadata": {},
   "outputs": [],
   "source": [
    "my_data = pd.Series(a_list)"
   ]
  },
  {
   "cell_type": "code",
   "execution_count": 35,
   "metadata": {},
   "outputs": [],
   "source": [
    "labels = ['milk','cheese','chocolote', 'coffee','chips', 'salsa']"
   ]
  },
  {
   "cell_type": "code",
   "execution_count": 37,
   "metadata": {},
   "outputs": [
    {
     "data": {
      "image/png": "[encoded data removed]",
      "text/plain": [
       "<Figure size 432x288 with 1 Axes>"
      ]
     },
     "metadata": {
      "needs_background": "light"
     },
     "output_type": "display_data"
    }
   ],
   "source": [
    "my_plot=my_data.plot(kind='bar')\n",
    "my_plot.set_xticklabels(labels);"
   ]
  }
 ],
 "metadata": {
  "kernelspec": {
   "display_name": "Python 3",
   "language": "python",
   "name": "python3"
  },
  "language_info": {
   "codemirror_mode": {
    "name": "ipython",
    "version": 3
   },
   "file_extension": ".py",
   "mimetype": "text/x-python",
   "name": "python",
   "nbconvert_exporter": "python",
   "pygments_lexer": "ipython3",
   "version": "3.7.3"
  }
 },
 "nbformat": 4,
 "nbformat_minor": 2
}
