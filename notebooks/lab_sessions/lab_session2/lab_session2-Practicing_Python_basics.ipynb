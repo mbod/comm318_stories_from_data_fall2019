{
 "cells": [
  {
   "cell_type": "markdown",
   "metadata": {},
   "source": [
    "# Lab Session 2 - Practicing Python basics\n",
    "\n",
    "\n",
    "## Objectives\n",
    "\n",
    "#### Review and practice the Python basics covered in this week's lecture notebook\n",
    "\n",
    "\n",
    "* **Working with Python**\n",
    "    * *LISTS*\n",
    "    * *DICTIONARIES*\n",
    "    * *LOOPS*\n",
    "    * *CONDITIONS*\n",
    "    * *FUNCTIONS*\n"
   ]
  },
  {
   "cell_type": "markdown",
   "metadata": {},
   "source": [
    "## 0. Setup"
   ]
  },
  {
   "cell_type": "code",
   "execution_count": 1,
   "metadata": {},
   "outputs": [],
   "source": [
    "%matplotlib inline\n",
    "\n",
    "import random\n",
    "import matplotlib.pyplot as plt"
   ]
  },
  {
   "cell_type": "markdown",
   "metadata": {},
   "source": [
    "## 1. Lists\n",
    "\n",
    "* A __LIST__ is an ordered sequence of objects\n",
    "\n",
    "\n",
    "* You can create a `list` object in a number of ways:\n",
    "    1. use square brackets to for boundaries of list and include the items separated by commas\n",
    "    2. start with an empty list (`[]`) and add (`.append()` function) items to it one at a time"
   ]
  },
  {
   "cell_type": "markdown",
   "metadata": {},
   "source": [
    "#### 1. Create a list and define the items in it at the same time"
   ]
  },
  {
   "cell_type": "code",
   "execution_count": 2,
   "metadata": {},
   "outputs": [],
   "source": [
    "my_list = [11,23,45,1,5]"
   ]
  },
  {
   "cell_type": "code",
   "execution_count": 3,
   "metadata": {},
   "outputs": [
    {
     "name": "stdout",
     "output_type": "stream",
     "text": [
      "[11, 23, 45, 1, 5]\n"
     ]
    }
   ],
   "source": [
    "print(my_list)"
   ]
  },
  {
   "cell_type": "code",
   "execution_count": 4,
   "metadata": {},
   "outputs": [
    {
     "data": {
      "text/plain": [
       "5"
      ]
     },
     "execution_count": 4,
     "metadata": {},
     "output_type": "execute_result"
    }
   ],
   "source": [
    "len(my_list)"
   ]
  },
  {
   "cell_type": "markdown",
   "metadata": {},
   "source": [
    "#### 2. Create an empty list and add items to it one at a time with `append()`"
   ]
  },
  {
   "cell_type": "code",
   "execution_count": 5,
   "metadata": {},
   "outputs": [],
   "source": [
    "my_list2 = []"
   ]
  },
  {
   "cell_type": "code",
   "execution_count": 6,
   "metadata": {},
   "outputs": [
    {
     "name": "stdout",
     "output_type": "stream",
     "text": [
      "[]\n"
     ]
    }
   ],
   "source": [
    "print(my_list2)"
   ]
  },
  {
   "cell_type": "code",
   "execution_count": 7,
   "metadata": {},
   "outputs": [],
   "source": [
    "my_list2.append(11)"
   ]
  },
  {
   "cell_type": "code",
   "execution_count": 8,
   "metadata": {},
   "outputs": [
    {
     "name": "stdout",
     "output_type": "stream",
     "text": [
      "[11]\n"
     ]
    }
   ],
   "source": [
    "print(my_list2)"
   ]
  },
  {
   "cell_type": "code",
   "execution_count": 9,
   "metadata": {},
   "outputs": [],
   "source": [
    "my_list2.append(23)\n",
    "my_list2.append(45)\n",
    "my_list2.append(1)\n",
    "my_list2.append(5)"
   ]
  },
  {
   "cell_type": "code",
   "execution_count": 10,
   "metadata": {},
   "outputs": [
    {
     "name": "stdout",
     "output_type": "stream",
     "text": [
      "[11, 23, 45, 1, 5]\n"
     ]
    }
   ],
   "source": [
    "print(my_list2)"
   ]
  },
  {
   "cell_type": "markdown",
   "metadata": {},
   "source": [
    "* You can see that we end up with two list objects with the same content"
   ]
  },
  {
   "cell_type": "code",
   "execution_count": 11,
   "metadata": {},
   "outputs": [
    {
     "data": {
      "text/plain": [
       "True"
      ]
     },
     "execution_count": 11,
     "metadata": {},
     "output_type": "execute_result"
    }
   ],
   "source": [
    "my_list == my_list2"
   ]
  },
  {
   "cell_type": "markdown",
   "metadata": {},
   "source": [
    "### List indexing\n",
    "\n",
    "* Items in a list can be accessed/referenced using __INDEXING__.\n",
    "\n",
    " \n",
    "* `my_list = [11, 23, 45, 1, 5]`\n",
    "\n",
    "    * `my_list[0]` will return the first item in the list, the integer object with value `11`\n",
    "\n",
    "\n",
    "* **REMEMBER** the first item in the list has an index of `0` (zero). \n",
    "\n",
    "\n",
    "* Using `my_list` use indexing to retrieve the following items:\n",
    "  1. The integer object with value `45`\n",
    "  2. The fourth item in the list\n",
    "  3. The integer object with value `23`\n",
    "  4. The last item in the list"
   ]
  },
  {
   "cell_type": "code",
   "execution_count": 12,
   "metadata": {},
   "outputs": [],
   "source": [
    "#  1. The integer object with value `45`\n",
    "  "
   ]
  },
  {
   "cell_type": "code",
   "execution_count": 13,
   "metadata": {},
   "outputs": [],
   "source": [
    "# 2. The fourth item in the list\n"
   ]
  },
  {
   "cell_type": "code",
   "execution_count": 14,
   "metadata": {},
   "outputs": [],
   "source": [
    "# 3. The integer object with value `23`\n"
   ]
  },
  {
   "cell_type": "code",
   "execution_count": 15,
   "metadata": {},
   "outputs": [],
   "source": [
    "# 4. The last item in the list\n"
   ]
  },
  {
   "cell_type": "markdown",
   "metadata": {},
   "source": [
    "### Adding comments to code cells\n",
    "\n",
    "* In notebooks we can interleave text and code using different types of cells:\n",
    "    * `Markdown` cells for text and documentation and explanation\n",
    "    * `Code` cells for Python code we want to be executed\n",
    "\n",
    "\n",
    "* It is also useful sometimes to have some explanation or comments mixed in with code to explain what it does etc. We can use __COMMENTS__ to do this.\n",
    "\n",
    "\n",
    "* In Python comments in code are lines that begin with `#`"
   ]
  },
  {
   "cell_type": "code",
   "execution_count": 16,
   "metadata": {},
   "outputs": [],
   "source": [
    "# This is a comment (text in a code cell) and will not be interpreted as Python code"
   ]
  },
  {
   "cell_type": "markdown",
   "metadata": {},
   "source": [
    "* Whereas if we try to put the same text in a code cell without the `#` comment marker we will get an error."
   ]
  },
  {
   "cell_type": "code",
   "execution_count": 18,
   "metadata": {},
   "outputs": [
    {
     "ename": "SyntaxError",
     "evalue": "invalid syntax (<ipython-input-18-db3f4ab24d74>, line 1)",
     "output_type": "error",
     "traceback": [
      "\u001b[0;36m  File \u001b[0;32m\"<ipython-input-18-db3f4ab24d74>\"\u001b[0;36m, line \u001b[0;32m1\u001b[0m\n\u001b[0;31m    This is a comment and will not be interpreted as Python code\u001b[0m\n\u001b[0m                    ^\u001b[0m\n\u001b[0;31mSyntaxError\u001b[0m\u001b[0;31m:\u001b[0m invalid syntax\n"
     ]
    }
   ],
   "source": [
    "This is a comment and will not be interpreted as Python code"
   ]
  },
  {
   "cell_type": "markdown",
   "metadata": {},
   "source": [
    "* Here is an example of an extended block of Python code with comments included:"
   ]
  },
  {
   "cell_type": "code",
   "execution_count": 19,
   "metadata": {},
   "outputs": [
    {
     "name": "stdout",
     "output_type": "stream",
     "text": [
      "my_list3 has 3 items\n",
      "The values in my_list3 are: [16, 154, 111]\n"
     ]
    }
   ],
   "source": [
    "# define an empty list\n",
    "my_list3 = []\n",
    "\n",
    "# add the numbers 16, 154 and 111 to the list\n",
    "my_list3.append(16)\n",
    "my_list3.append(154)\n",
    "my_list3.append(111)\n",
    "\n",
    "# print the length of the list\n",
    "print('my_list3 has {} items'.format(len(my_list3)))\n",
    "\n",
    "# print the values\n",
    "print('The values in my_list3 are:', my_list3)"
   ]
  },
  {
   "cell_type": "markdown",
   "metadata": {},
   "source": [
    "* It is good practice to include comments in your code so that:\n",
    "    1. you'll be able to remember what you where doing when you come back to your code later\n",
    "    2. others can read, use and expand on your code because they understand what it does\n",
    "    \n",
    "    \n",
    "* When you are trying to solve a problem and write a series of steps in code the first thing you should do is write out these steps in comments. Then you have a template and space to fill in the code step by step.\n",
    "    * For example the code block above with begin like this:"
   ]
  },
  {
   "cell_type": "code",
   "execution_count": 20,
   "metadata": {},
   "outputs": [],
   "source": [
    "# define an empty list\n",
    "\n",
    "\n",
    "# add the numbers 16, 154 and 111 to the list\n",
    "\n",
    "\n",
    "# print the length of the list\n",
    "\n",
    "\n",
    "# print the values\n"
   ]
  },
  {
   "cell_type": "markdown",
   "metadata": {},
   "source": [
    "### Getting subsequences of items from a list using __SLICING__\n",
    "\n",
    "* Subsequences of items in a list can be accessed using __SLICING__.\n",
    "    * You specify a _start_ and _end index_ separated by a colon (`:`) to define a slice\n",
    " \n",
    " \n",
    "* `my_list = [11, 23, 45, 1, 5]`\n",
    "\n",
    "    * `my_list[1:3]` will return the second (index `1`) and third (index `2`) items in the list, the integer objects with values `23` and `45`\n",
    "\n",
    "\n",
    "\n",
    "* **REMEMBER** one way to think about how slicing works in Python is that it is:\n",
    "    1. start index _inclusive_\n",
    "    2. end index _exclusive_"
   ]
  },
  {
   "cell_type": "markdown",
   "metadata": {},
   "source": [
    "## TASK\n",
    "\n",
    "* Here is a new list object containing numbers sampled from a list of integers from 0 to 99."
   ]
  },
  {
   "cell_type": "code",
   "execution_count": 21,
   "metadata": {},
   "outputs": [],
   "source": [
    "random_list = [18, 72, 27, 61, 83, 19, 21, 36, 40, 94, 75, 6, 29, 80, 96, 89, 68, 78]"
   ]
  },
  {
   "cell_type": "code",
   "execution_count": 22,
   "metadata": {},
   "outputs": [],
   "source": [
    "# 1. how many items are in this list\n"
   ]
  },
  {
   "cell_type": "code",
   "execution_count": 23,
   "metadata": {},
   "outputs": [],
   "source": [
    "# 2. define a slice that will return the subsequence [61, 83, 19, 21]\n",
    "# using random_list[s:e] where s & e are indices\n"
   ]
  },
  {
   "cell_type": "code",
   "execution_count": 24,
   "metadata": {},
   "outputs": [],
   "source": [
    "# 3. define a slice that will return the subsequence [96, 89]\n",
    "# using random_list[s:e] where s & e are indices\n"
   ]
  },
  {
   "cell_type": "code",
   "execution_count": 25,
   "metadata": {},
   "outputs": [],
   "source": [
    "# 4. define a slice that will return the last 5 items in the list\n"
   ]
  },
  {
   "cell_type": "code",
   "execution_count": 26,
   "metadata": {},
   "outputs": [],
   "source": [
    "# 5. define a slice that will return the first 10 items in the list\n"
   ]
  },
  {
   "cell_type": "markdown",
   "metadata": {},
   "source": [
    "## TASK\n",
    "\n",
    "* Here is a table of data relating to the number of US Facebook users\n",
    "\n",
    "<figure style=\"width:300px; padding: 10px; border: 1px solid gray\">\n",
    "<img src=\"img/fb2018_users.png\"/>\n",
    "\n",
    "<figcaption>Number of Facebook users in the United States as of January 2018, by age group (in millions)</figcaption>\n",
    "\n",
    "</figure>\n",
    "\n",
    "\n",
    "1. Define a list of string objects with a pointer named `age_group` for the first column **Age group**\n",
    "2. Define a list of numeric objects with a pointer named `users` for the second column **Users**\n",
    "3. Create a bar plot using these lists, that should look like this:\n",
    "\n",
    "![](img/barplot1.png)"
   ]
  },
  {
   "cell_type": "code",
   "execution_count": null,
   "metadata": {},
   "outputs": [],
   "source": [
    "# 1. Define a list of string objects with a pointer named `age_group` for the first column **Age group** \n",
    "\n",
    "age_group =  # you code here"
   ]
  },
  {
   "cell_type": "code",
   "execution_count": null,
   "metadata": {},
   "outputs": [],
   "source": [
    "# 2. Define a list of numeric objects with a pointer named `users` for the second column **Users**\n",
    "\n",
    "users = # you code here"
   ]
  },
  {
   "cell_type": "code",
   "execution_count": null,
   "metadata": {},
   "outputs": [],
   "source": [
    "# 3. create a bar plot\n",
    "\n",
    "plt.bar(age_group, users)"
   ]
  },
  {
   "cell_type": "markdown",
   "metadata": {},
   "source": [
    "* This plot has no real meaning because there are \n",
    "    1. no labels on either axes\n",
    "    2. no title label\n",
    "    \n",
    "    \n",
    "* Add those three things to the plot so it looks like this:\n",
    "\n",
    "![](img/barplot2.png)"
   ]
  },
  {
   "cell_type": "code",
   "execution_count": null,
   "metadata": {},
   "outputs": [],
   "source": [
    "# 4. create an improved barplot\n",
    "plt.bar(age_group, users)\n",
    "\n",
    "\n",
    "# use plt.xlabel('...') to add a label to the x-axis\n",
    "\n",
    "\n",
    "# use plt.ylabel('...') to add a label to the y-axis\n",
    "\n",
    "\n",
    "# use plt.title('...') to add a title to the barplot\n",
    "\n"
   ]
  },
  {
   "cell_type": "markdown",
   "metadata": {},
   "source": [
    "* Try switching the plotting function from\n",
    "    * `plt.bar()` to `plt.barh()`\n",
    "    \n",
    "    \n",
    "* Fix the labels for this new plot"
   ]
  },
  {
   "cell_type": "code",
   "execution_count": null,
   "metadata": {},
   "outputs": [],
   "source": [
    "# 5. create a second plot with labels using plt.barh() and add appropriate axes labels\n",
    "\n",
    "### ADD YOUR CODE HERE\n",
    "\n"
   ]
  },
  {
   "cell_type": "markdown",
   "metadata": {},
   "source": [
    "## Task\n",
    "\n",
    "1. create a new list called `age_group2` with string values `13-17`, `18-34`, `35-54` and `55-64+`.\n",
    "\n",
    "\n",
    "2. create a new list called `users2` derived from `users` that has the number of users corresponding to these four groups.\n",
    "    * **HINT** use __SLICING_ on values in `users` followed by the `sum()` function to combine the 2nd & 3rd, 4th & 5th and 6th & 7th items in `users`\n",
    "\n",
    "\n",
    "3. Using the two new lists:\n",
    "    1. `age_group2`\n",
    "    2. `users2`\n",
    "    \n",
    "   create a bar plot that looks like this:\n",
    "\n",
    "![](img/barplot3.png)"
   ]
  },
  {
   "cell_type": "code",
   "execution_count": null,
   "metadata": {},
   "outputs": [],
   "source": [
    "# 1. create a new list age_group2 with the values a'13-17', '18-34', '35-54', '55-64+'\n",
    "\n"
   ]
  },
  {
   "cell_type": "code",
   "execution_count": null,
   "metadata": {},
   "outputs": [],
   "source": [
    "# 2. create a list of four numbers called users2 derived from users that correspond to the labels in age_group2\n",
    "\n"
   ]
  },
  {
   "cell_type": "code",
   "execution_count": null,
   "metadata": {},
   "outputs": [],
   "source": [
    "# 3. create a bar plot like the one above\n"
   ]
  },
  {
   "cell_type": "code",
   "execution_count": null,
   "metadata": {},
   "outputs": [],
   "source": [
    "# 4. That is the total number of users captured in these data?\n",
    "\n"
   ]
  },
  {
   "cell_type": "markdown",
   "metadata": {},
   "source": [
    "## 3. Dictionaries\n",
    "\n",
    "* A `dictionary` is an unordered set of **KEY**-**VALUE** pairs\n",
    "\n",
    "\n",
    "* You can define one with curly braces `{` `}`\n",
    "\n",
    "\n",
    "* With a pair in the format: `key : value`\n",
    "\n",
    "\n",
    "* And pairs are separated by commas\n"
   ]
  },
  {
   "cell_type": "code",
   "execution_count": null,
   "metadata": {},
   "outputs": [],
   "source": [
    "story_items = {\n",
    "         'bear': 3,\n",
    "         'girl': 1,\n",
    "         'table': 1,\n",
    "         'chair': 3,\n",
    "         'bowl': 3,\n",
    "         'bed': 3,\n",
    "         'house': 1\n",
    "        }"
   ]
  },
  {
   "cell_type": "markdown",
   "metadata": {},
   "source": [
    "* You can get the value of an item (key-value pair) in a dictionary by using the key as the index, e.g.\n",
    "    * `story_items['chair']` will find the item in the dictionary object with a key `chair` and return the associated value `3`"
   ]
  },
  {
   "cell_type": "code",
   "execution_count": null,
   "metadata": {},
   "outputs": [],
   "source": [
    "story_items['chair']"
   ]
  },
  {
   "cell_type": "markdown",
   "metadata": {},
   "source": [
    "* You will get an error if you try and retrieve the value for a key that does not exist in the dictionary."
   ]
  },
  {
   "cell_type": "code",
   "execution_count": null,
   "metadata": {},
   "outputs": [],
   "source": [
    "story_items['tree']"
   ]
  },
  {
   "cell_type": "markdown",
   "metadata": {},
   "source": [
    "* You can add a new key-value pair to a dictionary like this:"
   ]
  },
  {
   "cell_type": "code",
   "execution_count": null,
   "metadata": {},
   "outputs": [],
   "source": [
    "story_items['forest'] = 1"
   ]
  },
  {
   "cell_type": "code",
   "execution_count": null,
   "metadata": {},
   "outputs": [],
   "source": [
    "story_items"
   ]
  },
  {
   "cell_type": "markdown",
   "metadata": {},
   "source": [
    "* The value in a dictionary can be any kind of object including a `list` or even another `dictionary`"
   ]
  },
  {
   "cell_type": "code",
   "execution_count": null,
   "metadata": {},
   "outputs": [],
   "source": [
    "goldilocks_story = {\n",
    "    'bears': ['papa', 'mama', 'baby'],\n",
    "    'girls': ['goldilocks'],\n",
    "    'chairs': [\"papa bear's\", \"mama bear's\", \"baby bear's\"],\n",
    "    'bowls': [\"papa bear's\", \"mama bear's\", \"baby bear's\"],\n",
    "    'beds': [\"papa bear's\", \"mama bear's\", \"baby bear's\"]\n",
    "}"
   ]
  },
  {
   "cell_type": "markdown",
   "metadata": {},
   "source": [
    "## TASK\n",
    "\n",
    "* Retrieve the values from `story_items` corresponding to the following keys:\n",
    "    * `bear`\n",
    "    * `girl`\n",
    "    * `table`"
   ]
  },
  {
   "cell_type": "code",
   "execution_count": null,
   "metadata": {},
   "outputs": [],
   "source": [
    "# how many bears are there? - use indexing on the dictionary story_items to answer\n",
    "\n"
   ]
  },
  {
   "cell_type": "code",
   "execution_count": null,
   "metadata": {},
   "outputs": [],
   "source": [
    "# how many girls?\n"
   ]
  },
  {
   "cell_type": "code",
   "execution_count": null,
   "metadata": {},
   "outputs": [],
   "source": [
    "# how many tables?\n"
   ]
  },
  {
   "cell_type": "markdown",
   "metadata": {},
   "source": [
    "* Now do the same thing with the second dictionary `goldilocks_story` which will return a list and then you can find out the length of that list\n",
    "\n",
    "\n",
    "* For example, to get a list of the bowls in the story do:\n",
    "  * `goldilocks_story['bowls']`\n",
    "  * then use `len()`\n",
    "  \n",
    "  "
   ]
  },
  {
   "cell_type": "code",
   "execution_count": null,
   "metadata": {},
   "outputs": [],
   "source": [
    "# using goldilocks_story dictionary - how many chairs are there?\n"
   ]
  },
  {
   "cell_type": "code",
   "execution_count": null,
   "metadata": {},
   "outputs": [],
   "source": [
    "# using goldilocks_story dictionary - how many beds are there?\n"
   ]
  },
  {
   "cell_type": "markdown",
   "metadata": {},
   "source": [
    "* You can also add a second level of indexing as the value returned is a list.\n",
    "\n",
    "\n",
    "* For example:"
   ]
  },
  {
   "cell_type": "code",
   "execution_count": null,
   "metadata": {},
   "outputs": [],
   "source": [
    "goldilocks_story['beds']"
   ]
  },
  {
   "cell_type": "code",
   "execution_count": null,
   "metadata": {},
   "outputs": [],
   "source": [
    "# who does the second bed in the list belong to?\n",
    "\n",
    "goldilocks_story['beds'][1]"
   ]
  },
  {
   "cell_type": "code",
   "execution_count": null,
   "metadata": {},
   "outputs": [],
   "source": [
    "# who does the first chair belong to?\n"
   ]
  },
  {
   "cell_type": "code",
   "execution_count": null,
   "metadata": {},
   "outputs": [],
   "source": [
    "# who does the last bowl belong to?\n"
   ]
  },
  {
   "cell_type": "markdown",
   "metadata": {},
   "source": [
    "## TASK\n",
    "\n",
    "* Using the table below create two lists\n",
    "    1. `female` should be a list of the percentages in the second column\n",
    "    2. `male` should be a list of the percentages in the third column\n",
    "\n",
    "   _Note_ you should already have the first column in a list called `age_group`   \n",
    "\n",
    "\n",
    "<figure style=\"width:300px; padding: 10px; border: 1px solid gray\">\n",
    "<img src=\"img/fb_sharing_may2019.png\"/>\n",
    "\n",
    "<figcaption>Distribution of Facebook users in the United States as of May 2019, by age group and gender\n",
    "</figcaption>\n",
    "\n",
    "</figure>\n",
    "\n",
    "<small>Source: https://www.statista.com/statistics/187041/us-user-age-distribution-on-facebook/</small>\n",
    "\n",
    "\n",
    "* Now create a dictionary with a pointer called `fb_data` that has:\n",
    "    * three keys:\n",
    "        1. `age_group`\n",
    "        2. `female`\n",
    "        3. `male`\n",
    "    * and the matching values should be the corresponding lists"
   ]
  },
  {
   "cell_type": "code",
   "execution_count": null,
   "metadata": {},
   "outputs": [],
   "source": [
    "# create a list called female with the numbers from the second column of the table\n",
    "\n",
    "\n",
    "\n",
    "# create a list called male with the numbers from the third column of the table\n"
   ]
  },
  {
   "cell_type": "code",
   "execution_count": null,
   "metadata": {},
   "outputs": [],
   "source": [
    "# create a dictionary with a pointer called fb_data with three items with keys age_group, female & male\n",
    "# and the correspond values for these keys will be the three lists\n",
    "\n",
    "fb_data = {\n",
    "            # add your items here\n",
    "          }"
   ]
  },
  {
   "cell_type": "markdown",
   "metadata": {},
   "source": [
    "* Run the following cell to test whether your dictionary contains the correct values"
   ]
  },
  {
   "cell_type": "code",
   "execution_count": null,
   "metadata": {},
   "outputs": [],
   "source": [
    "try:\n",
    "    assert(fb_data == {'age_group': ['13-17', '18-24', '25-34', '35-44', '45-54', '55-64', '65+'], 'female': [1.0, 7.6, 12.5, 10.4, 9.3, 7.6, 7.1], 'male': [0.7, 6.5, 12.0, 8.7, 7.1, 5.2, 4.1]})\n",
    "    print(':) Great your dictionary is correct!')\n",
    "except:\n",
    "    print(':( Something is wrong with your dictionary - try again')\n"
   ]
  },
  {
   "cell_type": "markdown",
   "metadata": {},
   "source": [
    "* Run the follow cell to produce a grouped bar plot\n",
    "\n",
    "\n",
    "* Add the x & y axis labels and a main title to the plot"
   ]
  },
  {
   "cell_type": "code",
   "execution_count": null,
   "metadata": {},
   "outputs": [],
   "source": [
    "bar_width = 0.4\n",
    "\n",
    "x1 = range(len(fb_data['female']))\n",
    "x2 = [p+bar_width for p in x1]\n",
    "xpos = [p+bar_width/2 for p in x1]\n",
    "\n",
    "plt.bar(x1, fb_data['female'], width=bar_width, label='Female')\n",
    "plt.bar(x2, fb_data['male'], width=bar_width, label='Male')\n",
    "\n",
    "plt.xticks(xpos, age_group)\n",
    "\n",
    "# use plt.xlabel() to add a label \"Age group\" to the x-axis\n",
    "\n",
    "# use plt.ylabel() to add a label \"% of users by gender\" to the y-axis\n",
    "\n",
    "# use plt.title() to add an appropriate title to the plot\n",
    "\n",
    "\n",
    "plt.legend()\n",
    "plt.show()"
   ]
  },
  {
   "cell_type": "code",
   "execution_count": null,
   "metadata": {},
   "outputs": [],
   "source": []
  },
  {
   "cell_type": "markdown",
   "metadata": {},
   "source": [
    "## Task\n",
    "\n",
    "* Here are two lists that capture the years on which data is available from Yellowstone on grizzy bears"
   ]
  },
  {
   "cell_type": "code",
   "execution_count": null,
   "metadata": {},
   "outputs": [],
   "source": [
    "years = ['1980', '1981', '1982', '1983', '1984', '1985', '1986', '1987', \n",
    "        '1988', '1989', '1990', '1991', '1992', '1993', '1994', '1995', '1996', \n",
    "        '1997', '1998', '1999', '2000', '2001', '2002', '2003', '2004', '2005', '2006', \n",
    "        '2007', '2008', '2009', '2010', '2011', '2012', '2013', '2014', '2015', '2016', '2017']\n",
    "\n",
    "\n",
    "monitored = [34, 43, 46, 26, 35, 21, 29, 30, 46, 40, 35, 42, 41, 43, 60, 71, 76, 70, 58, \n",
    "             65, 84, 82, 81, 80, 78, 91, 92, 86, 87, 97, 85, 92, 112, 88, 94, 101, 106, 99]"
   ]
  },
  {
   "cell_type": "markdown",
   "metadata": {},
   "source": [
    "* Use functions to calculate\n",
    "    1. total number of bears monitored\n",
    "    2. the average number\n",
    "    \n",
    "    \n",
    "* Using slicing and functions make three new lists\n",
    "    1. `decade` which will be `'1980-1989', '1990-1999', etc.`\n",
    "    2. `decade_monitored` - the sum of all the bears monitored in the corresponding years\n",
    "    3. `decade_mean` - the mean of the bears monitored in the corresponding years"
   ]
  },
  {
   "cell_type": "code",
   "execution_count": null,
   "metadata": {},
   "outputs": [],
   "source": [
    "# total number of bears monitored\n",
    "\n"
   ]
  },
  {
   "cell_type": "code",
   "execution_count": null,
   "metadata": {},
   "outputs": [],
   "source": [
    "# average number of bears monitored in a year\n"
   ]
  },
  {
   "cell_type": "code",
   "execution_count": null,
   "metadata": {},
   "outputs": [],
   "source": [
    "# create a new list called decade\n"
   ]
  },
  {
   "cell_type": "code",
   "execution_count": null,
   "metadata": {},
   "outputs": [],
   "source": [
    "# create decade_monitored\n",
    "\n"
   ]
  },
  {
   "cell_type": "code",
   "execution_count": null,
   "metadata": {},
   "outputs": [],
   "source": [
    "# create decade_mean\n",
    "\n"
   ]
  },
  {
   "cell_type": "markdown",
   "metadata": {},
   "source": [
    "* Create some bar plots using these lists"
   ]
  },
  {
   "cell_type": "code",
   "execution_count": null,
   "metadata": {},
   "outputs": [],
   "source": []
  },
  {
   "cell_type": "code",
   "execution_count": null,
   "metadata": {},
   "outputs": [],
   "source": []
  },
  {
   "cell_type": "markdown",
   "metadata": {},
   "source": [
    "* Look at the lecture notebook and create some line plots of\n",
    "    1. the complete year by year dataset (using `years` and `monitored`)\n",
    "    2. the decade aggregated data"
   ]
  },
  {
   "cell_type": "code",
   "execution_count": null,
   "metadata": {},
   "outputs": [],
   "source": []
  }
 ],
 "metadata": {
  "kernelspec": {
   "display_name": "Python 3",
   "language": "python",
   "name": "python3"
  },
  "language_info": {
   "codemirror_mode": {
    "name": "ipython",
    "version": 3
   },
   "file_extension": ".py",
   "mimetype": "text/x-python",
   "name": "python",
   "nbconvert_exporter": "python",
   "pygments_lexer": "ipython3",
   "version": "3.7.3"
  }
 },
 "nbformat": 4,
 "nbformat_minor": 2
}
