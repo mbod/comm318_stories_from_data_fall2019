{
 "cells": [
  {
   "cell_type": "markdown",
   "metadata": {},
   "source": [
    "# Lab Session 2 - Practicing Python basics\n",
    "\n",
    "\n",
    "## Objectives\n",
    "\n",
    "#### Review and practice the Python basics covered in this week's lecture notebook\n",
    "\n",
    "\n",
    "* **Working with Python**\n",
    "    * *LISTS*\n",
    "    * *DICTIONARIES*\n",
    "    * *LOOPS*\n",
    "    * *CONDITIONS*\n",
    "    * *FUNCTIONS*\n"
   ]
  },
  {
   "cell_type": "markdown",
   "metadata": {},
   "source": [
    "## 0. Setup"
   ]
  },
  {
   "cell_type": "code",
   "execution_count": 1,
   "metadata": {},
   "outputs": [],
   "source": [
    "%matplotlib inline\n",
    "\n",
    "import random\n",
    "import matplotlib.pyplot as plt"
   ]
  },
  {
   "cell_type": "markdown",
   "metadata": {},
   "source": [
    "## 1. Lists\n",
    "\n",
    "* A __LIST__ is an ordered sequence of objects\n",
    "\n",
    "\n",
    "* You can create a `list` object in a number of ways:\n",
    "    1. use square brackets to for boundaries of list and include the items separated by commas\n",
    "    2. start with an empty list (`[]`) and add (`.append()` function) items to it one at a time"
   ]
  },
  {
   "cell_type": "markdown",
   "metadata": {},
   "source": [
    "#### 1. Create a list and define the items in it at the same time"
   ]
  },
  {
   "cell_type": "code",
   "execution_count": 2,
   "metadata": {},
   "outputs": [],
   "source": [
    "my_list = [11,23,45,1,5]"
   ]
  },
  {
   "cell_type": "code",
   "execution_count": 3,
   "metadata": {},
   "outputs": [
    {
     "name": "stdout",
     "output_type": "stream",
     "text": [
      "[11, 23, 45, 1, 5]\n"
     ]
    }
   ],
   "source": [
    "print(my_list)"
   ]
  },
  {
   "cell_type": "code",
   "execution_count": 4,
   "metadata": {},
   "outputs": [
    {
     "data": {
      "text/plain": [
       "5"
      ]
     },
     "execution_count": 4,
     "metadata": {},
     "output_type": "execute_result"
    }
   ],
   "source": [
    "len(my_list)"
   ]
  },
  {
   "cell_type": "markdown",
   "metadata": {},
   "source": [
    "#### 2. Create an empty list and add items to it one at a time with `append()`"
   ]
  },
  {
   "cell_type": "code",
   "execution_count": 5,
   "metadata": {},
   "outputs": [],
   "source": [
    "my_list2 = []"
   ]
  },
  {
   "cell_type": "code",
   "execution_count": 6,
   "metadata": {},
   "outputs": [
    {
     "name": "stdout",
     "output_type": "stream",
     "text": [
      "[]\n"
     ]
    }
   ],
   "source": [
    "print(my_list2)"
   ]
  },
  {
   "cell_type": "code",
   "execution_count": 7,
   "metadata": {},
   "outputs": [],
   "source": [
    "my_list2.append(11)"
   ]
  },
  {
   "cell_type": "code",
   "execution_count": 8,
   "metadata": {},
   "outputs": [
    {
     "name": "stdout",
     "output_type": "stream",
     "text": [
      "[11]\n"
     ]
    }
   ],
   "source": [
    "print(my_list2)"
   ]
  },
  {
   "cell_type": "code",
   "execution_count": 9,
   "metadata": {},
   "outputs": [],
   "source": [
    "my_list2.append(23)\n",
    "my_list2.append(45)\n",
    "my_list2.append(1)\n",
    "my_list2.append(5)"
   ]
  },
  {
   "cell_type": "code",
   "execution_count": 10,
   "metadata": {},
   "outputs": [
    {
     "name": "stdout",
     "output_type": "stream",
     "text": [
      "[11, 23, 45, 1, 5]\n"
     ]
    }
   ],
   "source": [
    "print(my_list2)"
   ]
  },
  {
   "cell_type": "markdown",
   "metadata": {},
   "source": [
    "* You can see that we end up with two list objects with the same content"
   ]
  },
  {
   "cell_type": "code",
   "execution_count": 16,
   "metadata": {},
   "outputs": [
    {
     "data": {
      "text/plain": [
       "True"
      ]
     },
     "execution_count": 16,
     "metadata": {},
     "output_type": "execute_result"
    }
   ],
   "source": [
    "my_list == my_list2"
   ]
  },
  {
   "cell_type": "markdown",
   "metadata": {},
   "source": [
    "### List indexing\n",
    "\n",
    "* Items in a list can be accessed/referenced using __INDEXING__.\n",
    "\n",
    " \n",
    "* `my_list = [11, 23, 45, 1, 5]`\n",
    "\n",
    "    * `my_list[0]` will return the first item in the list, the integer object with value `11`\n",
    "\n",
    "\n",
    "* **REMEMBER** the first item in the list has an index of `0` (zero). \n",
    "\n",
    "\n",
    "* Using `my_list` use indexing to retrieve the following items:\n",
    "  1. The integer object with value `45`\n",
    "  2. The fourth item in the list\n",
    "  3. The integer object with value `23`\n",
    "  4. The last item in the list"
   ]
  },
  {
   "cell_type": "code",
   "execution_count": 11,
   "metadata": {},
   "outputs": [
    {
     "data": {
      "text/plain": [
       "45"
      ]
     },
     "execution_count": 11,
     "metadata": {},
     "output_type": "execute_result"
    }
   ],
   "source": [
    "#  1. The integer object with value `45`\n",
    "my_list[2]"
   ]
  },
  {
   "cell_type": "code",
   "execution_count": 12,
   "metadata": {},
   "outputs": [
    {
     "data": {
      "text/plain": [
       "1"
      ]
     },
     "execution_count": 12,
     "metadata": {},
     "output_type": "execute_result"
    }
   ],
   "source": [
    "# 2. The fourth item in the list\n",
    "my_list[3]"
   ]
  },
  {
   "cell_type": "code",
   "execution_count": 13,
   "metadata": {},
   "outputs": [
    {
     "data": {
      "text/plain": [
       "23"
      ]
     },
     "execution_count": 13,
     "metadata": {},
     "output_type": "execute_result"
    }
   ],
   "source": [
    "# 3. The integer object with value `23`\n",
    "my_list[1]"
   ]
  },
  {
   "cell_type": "code",
   "execution_count": 14,
   "metadata": {},
   "outputs": [
    {
     "data": {
      "text/plain": [
       "5"
      ]
     },
     "execution_count": 14,
     "metadata": {},
     "output_type": "execute_result"
    }
   ],
   "source": [
    "# 4. The last item in the list\n",
    "my_list[4]"
   ]
  },
  {
   "cell_type": "code",
   "execution_count": 16,
   "metadata": {},
   "outputs": [
    {
     "data": {
      "text/plain": [
       "5"
      ]
     },
     "execution_count": 16,
     "metadata": {},
     "output_type": "execute_result"
    }
   ],
   "source": [
    "# or can use negative indexing\n",
    "my_list[-1]"
   ]
  },
  {
   "cell_type": "markdown",
   "metadata": {},
   "source": [
    "### Adding comments to code cells\n",
    "\n",
    "* In notebooks we can interleave text and code using different types of cells:\n",
    "    * `Markdown` cells for text and documentation and explanation\n",
    "    * `Code` cells for Python code we want to be executed\n",
    "\n",
    "\n",
    "* It is also useful sometimes to have some explanation or comments mixed in with code to explain what it does etc. We can use __COMMENTS__ to do this.\n",
    "\n",
    "\n",
    "* In Python comments in code are lines that begin with `#`"
   ]
  },
  {
   "cell_type": "code",
   "execution_count": 17,
   "metadata": {},
   "outputs": [],
   "source": [
    "# This is a comment (text in a code cell) and will not be interpreted as Python code"
   ]
  },
  {
   "cell_type": "markdown",
   "metadata": {},
   "source": [
    "* Whereas if we try to put the same text in a code cell without the `#` comment marker we will get an error."
   ]
  },
  {
   "cell_type": "code",
   "execution_count": 18,
   "metadata": {},
   "outputs": [
    {
     "ename": "SyntaxError",
     "evalue": "invalid syntax (<ipython-input-18-db3f4ab24d74>, line 1)",
     "output_type": "error",
     "traceback": [
      "\u001b[0;36m  File \u001b[0;32m\"<ipython-input-18-db3f4ab24d74>\"\u001b[0;36m, line \u001b[0;32m1\u001b[0m\n\u001b[0;31m    This is a comment and will not be interpreted as Python code\u001b[0m\n\u001b[0m                    ^\u001b[0m\n\u001b[0;31mSyntaxError\u001b[0m\u001b[0;31m:\u001b[0m invalid syntax\n"
     ]
    }
   ],
   "source": [
    "This is a comment and will not be interpreted as Python code"
   ]
  },
  {
   "cell_type": "markdown",
   "metadata": {},
   "source": [
    "* Here is an example of an extended block of Python code with comments included:"
   ]
  },
  {
   "cell_type": "code",
   "execution_count": 19,
   "metadata": {},
   "outputs": [
    {
     "name": "stdout",
     "output_type": "stream",
     "text": [
      "my_list3 has 3 items\n",
      "The values in my_list3 are: [16, 154, 111]\n"
     ]
    }
   ],
   "source": [
    "# define an empty list\n",
    "my_list3 = []\n",
    "\n",
    "# add the numbers 16, 154 and 111 to the list\n",
    "my_list3.append(16)\n",
    "my_list3.append(154)\n",
    "my_list3.append(111)\n",
    "\n",
    "# print the length of the list\n",
    "print('my_list3 has {} items'.format(len(my_list3)))\n",
    "\n",
    "# print the values\n",
    "print('The values in my_list3 are:', my_list3)"
   ]
  },
  {
   "cell_type": "markdown",
   "metadata": {},
   "source": [
    "* It is good practice to include comments in your code so that:\n",
    "    1. you'll be able to remember what you where doing when you come back to your code later\n",
    "    2. others can read, use and expand on your code because they understand what it does\n",
    "    \n",
    "    \n",
    "* When you are trying to solve a problem and write a series of steps in code the first thing you should do is write out these steps in comments. Then you have a template and space to fill in the code step by step.\n",
    "    * For example the code block above with begin like this:"
   ]
  },
  {
   "cell_type": "code",
   "execution_count": 20,
   "metadata": {},
   "outputs": [],
   "source": [
    "# define an empty list\n",
    "\n",
    "\n",
    "# add the numbers 16, 154 and 111 to the list\n",
    "\n",
    "\n",
    "# print the length of the list\n",
    "\n",
    "\n",
    "# print the values\n"
   ]
  },
  {
   "cell_type": "markdown",
   "metadata": {},
   "source": [
    "### Getting subsequences of items from a list using __SLICING__\n",
    "\n",
    "* Subsequences of items in a list can be accessed using __SLICING__.\n",
    "    * You specify a _start_ and _end index_ separated by a colon (`:`) to define a slice\n",
    " \n",
    " \n",
    "* `my_list = [11, 23, 45, 1, 5]`\n",
    "\n",
    "    * `my_list[1:3]` will return the second (index `1`) and third (index `2`) items in the list, the integer objects with values `23` and `45`\n",
    "\n",
    "\n",
    "\n",
    "* **REMEMBER** one way to think about how slicing works in Python is that it is:\n",
    "    1. start index _inclusive_\n",
    "    2. end index _exclusive_"
   ]
  },
  {
   "cell_type": "markdown",
   "metadata": {},
   "source": [
    "## TASK\n",
    "\n",
    "* Here is a new list object containing numbers sampled from a list of integers from 0 to 99."
   ]
  },
  {
   "cell_type": "code",
   "execution_count": 21,
   "metadata": {},
   "outputs": [],
   "source": [
    "random_list = [18, 72, 27, 61, 83, 19, 21, 36, 40, 94, 75, 6, 29, 80, 96, 89, 68, 78]"
   ]
  },
  {
   "cell_type": "code",
   "execution_count": 22,
   "metadata": {},
   "outputs": [
    {
     "data": {
      "text/plain": [
       "18"
      ]
     },
     "execution_count": 22,
     "metadata": {},
     "output_type": "execute_result"
    }
   ],
   "source": [
    "# 1. how many items are in this list\n",
    "len(random_list)"
   ]
  },
  {
   "cell_type": "code",
   "execution_count": 23,
   "metadata": {},
   "outputs": [
    {
     "data": {
      "text/plain": [
       "[61, 83, 19, 21]"
      ]
     },
     "execution_count": 23,
     "metadata": {},
     "output_type": "execute_result"
    }
   ],
   "source": [
    "# 2. define a slice that will return the subsequence [61, 83, 19, 21]\n",
    "# using random_list[s:e] where s & e are indices\n",
    "random_list[3:7]"
   ]
  },
  {
   "cell_type": "code",
   "execution_count": 27,
   "metadata": {},
   "outputs": [
    {
     "data": {
      "text/plain": [
       "[96, 89]"
      ]
     },
     "execution_count": 27,
     "metadata": {},
     "output_type": "execute_result"
    }
   ],
   "source": [
    "# 3. define a slice that will return the subsequence [96, 89]\n",
    "# using random_list[s:e] where s & e are indices\n",
    "random_list[14:16]"
   ]
  },
  {
   "cell_type": "markdown",
   "metadata": {},
   "source": [
    "* you count from the beginning of the list, starting with index 0 to find that the first object with value 96 has an index of `14`\n",
    "\n",
    "\n",
    "* `list` objects also have an `.index()` function, that will return the index for the first object matching the value passed in the parameter"
   ]
  },
  {
   "cell_type": "code",
   "execution_count": 30,
   "metadata": {},
   "outputs": [
    {
     "data": {
      "text/plain": [
       "14"
      ]
     },
     "execution_count": 30,
     "metadata": {},
     "output_type": "execute_result"
    }
   ],
   "source": [
    "random_list.index(96)"
   ]
  },
  {
   "cell_type": "code",
   "execution_count": 31,
   "metadata": {},
   "outputs": [
    {
     "data": {
      "text/plain": [
       "15"
      ]
     },
     "execution_count": 31,
     "metadata": {},
     "output_type": "execute_result"
    }
   ],
   "source": [
    "random_list.index(89)"
   ]
  },
  {
   "cell_type": "code",
   "execution_count": null,
   "metadata": {},
   "outputs": [],
   "source": [
    "# or using negative indexing\n",
    "# the fourth item back from the end of the list is 96\n",
    "random_list[-4:-2]"
   ]
  },
  {
   "cell_type": "code",
   "execution_count": 37,
   "metadata": {},
   "outputs": [
    {
     "data": {
      "text/plain": [
       "[80, 96, 89, 68, 78]"
      ]
     },
     "execution_count": 37,
     "metadata": {},
     "output_type": "execute_result"
    }
   ],
   "source": [
    "# 4. define a slice that will return the last 5 items in the list\n",
    "\n",
    "length = len(random_list)\n",
    "random_list[length-5:length]"
   ]
  },
  {
   "cell_type": "code",
   "execution_count": 38,
   "metadata": {},
   "outputs": [
    {
     "data": {
      "text/plain": [
       "[80, 96, 89, 68, 78]"
      ]
     },
     "execution_count": 38,
     "metadata": {},
     "output_type": "execute_result"
    }
   ],
   "source": [
    "# or can use negative indexing and leave the end index of the slice blank \n",
    "# that means ALL THE WAY TO THE END of the list\n",
    "\n",
    "random_list[-5:]"
   ]
  },
  {
   "cell_type": "code",
   "execution_count": 40,
   "metadata": {},
   "outputs": [
    {
     "data": {
      "text/plain": [
       "[18, 72, 27, 61, 83, 19, 21, 36, 40, 94]"
      ]
     },
     "execution_count": 40,
     "metadata": {},
     "output_type": "execute_result"
    }
   ],
   "source": [
    "# 5. define a slice that will return the first 10 items in the list\n",
    "\n",
    "random_list[0:10]"
   ]
  },
  {
   "cell_type": "code",
   "execution_count": 43,
   "metadata": {},
   "outputs": [
    {
     "data": {
      "text/plain": [
       "[18, 72, 27, 61, 83, 19, 21, 36, 40, 94]"
      ]
     },
     "execution_count": 43,
     "metadata": {},
     "output_type": "execute_result"
    }
   ],
   "source": [
    "# you may see slices with the start index left blank\n",
    "# this means START FROM THE BEGINNING OF THE LIST\n",
    "\n",
    "random_list[:10]"
   ]
  },
  {
   "cell_type": "markdown",
   "metadata": {},
   "source": [
    "## TASK\n",
    "\n",
    "* Here is a table of data relating to the number of US Facebook users\n",
    "\n",
    "<figure style=\"width:300px; padding: 10px; border: 1px solid gray\">\n",
    "<img src=\"img/fb2018_users.png\"/>\n",
    "\n",
    "<figcaption>Number of Facebook users in the United States as of January 2018, by age group (in millions)</figcaption>\n",
    "\n",
    "</figure>\n",
    "\n",
    "\n",
    "1. Define a list of string objects with a pointer named `age_group` for the first column **Age group**\n",
    "2. Define a list of numeric objects with a pointer named `users` for the second column **Users**\n",
    "3. Create a bar plot using these lists, that should look like this:\n",
    "\n",
    "![](img/barplot1.png)"
   ]
  },
  {
   "cell_type": "code",
   "execution_count": 86,
   "metadata": {},
   "outputs": [],
   "source": [
    "# 1. Define a list of string objects with a pointer named `age_group` for the first column **Age group** \n",
    "\n",
    "age_group =  ['13-17', '18-24', '25-34', '35-44', '45-54', '55-64', '65+']"
   ]
  },
  {
   "cell_type": "code",
   "execution_count": 87,
   "metadata": {},
   "outputs": [],
   "source": [
    "# 2. Define a list of numeric objects with a pointer named `users` for the second column **Users**\n",
    "\n",
    "users = [6.8, 39.4, 58.3, 42.4, 35.4, 26.5, 21.1]"
   ]
  },
  {
   "cell_type": "code",
   "execution_count": 88,
   "metadata": {},
   "outputs": [
    {
     "data": {
      "text/plain": [
       "<BarContainer object of 7 artists>"
      ]
     },
     "execution_count": 88,
     "metadata": {},
     "output_type": "execute_result"
    },
    {
     "data": {
      "image/png": "[encoded data removed]",
      "text/plain": [
       "<Figure size 432x288 with 1 Axes>"
      ]
     },
     "metadata": {
      "needs_background": "light"
     },
     "output_type": "display_data"
    }
   ],
   "source": [
    "# 3. create a bar plot\n",
    "\n",
    "plt.bar(age_group, users)"
   ]
  },
  {
   "cell_type": "markdown",
   "metadata": {},
   "source": [
    "* This plot has no real meaning because there are \n",
    "    1. no labels on either axes\n",
    "    2. no title label\n",
    "    \n",
    "    \n",
    "* Add those three things to the plot so it looks like this:\n",
    "\n",
    "![](img/barplot2.png)"
   ]
  },
  {
   "cell_type": "code",
   "execution_count": 89,
   "metadata": {},
   "outputs": [
    {
     "data": {
      "text/plain": [
       "Text(0.5, 1.0, 'Number of Facebook users in the United States as of January 2018')"
      ]
     },
     "execution_count": 89,
     "metadata": {},
     "output_type": "execute_result"
    },
    {
     "data": {
      "image/png": "[encoded data removed]",
      "text/plain": [
       "<Figure size 432x288 with 1 Axes>"
      ]
     },
     "metadata": {
      "needs_background": "light"
     },
     "output_type": "display_data"
    }
   ],
   "source": [
    "# 4. create an improved barplot\n",
    "plt.bar(age_group, users)\n",
    "\n",
    "\n",
    "# use plt.xlabel('...') to add a label to the x-axis\n",
    "plt.xlabel('Age group')\n",
    "\n",
    "# use plt.ylabel('...') to add a label to the y-axis\n",
    "plt.ylabel('# of users (millions)')\n",
    "\n",
    "# use plt.title('...') to add a title to the barplot\n",
    "plt.title('Number of Facebook users in the United States as of January 2018')\n"
   ]
  },
  {
   "cell_type": "markdown",
   "metadata": {},
   "source": [
    "* Try switching the plotting function from\n",
    "    * `plt.bar()` to `plt.barh()`\n",
    "    \n",
    "    \n",
    "* Fix the labels for this new plot"
   ]
  },
  {
   "cell_type": "code",
   "execution_count": 90,
   "metadata": {},
   "outputs": [
    {
     "data": {
      "text/plain": [
       "Text(0.5, 1.0, 'Number of Facebook users in the United States as of January 2018')"
      ]
     },
     "execution_count": 90,
     "metadata": {},
     "output_type": "execute_result"
    },
    {
     "data": {
      "image/png": "[encoded data removed]",
      "text/plain": [
       "<Figure size 432x288 with 1 Axes>"
      ]
     },
     "metadata": {
      "needs_background": "light"
     },
     "output_type": "display_data"
    }
   ],
   "source": [
    "# 5. create a second plot with labels using plt.barh() and add appropriate axes labels\n",
    "plt.barh(age_group, users)\n",
    "\n",
    "plt.xlabel('# of users (millions)')\n",
    "plt.ylabel('Age group')\n",
    "plt.title('Number of Facebook users in the United States as of January 2018')"
   ]
  },
  {
   "cell_type": "markdown",
   "metadata": {},
   "source": [
    "## Task\n",
    "\n",
    "1. create a new list called `age_group2` with string values `13-17`, `18-34`, `35-54` and `55-64+`.\n",
    "\n",
    "\n",
    "2. create a new list called `users2` derived from `users` that has the number of users corresponding to these four groups.\n",
    "    * **HINT** use __SLICING_ on values in `users` followed by the `sum()` function to combine the 2nd & 3rd, 4th & 5th and 6th & 7th items in `users`\n",
    "\n",
    "\n",
    "3. Using the two new lists:\n",
    "    1. `age_group2`\n",
    "    2. `users2`\n",
    "    \n",
    "   create a bar plot that looks like this:\n",
    "\n",
    "![](img/barplot3.png)"
   ]
  },
  {
   "cell_type": "code",
   "execution_count": 52,
   "metadata": {},
   "outputs": [],
   "source": [
    "# 1. create a new list age_group2 with the values '13-17', '18-34', '35-54', '55-64+'\n",
    "\n",
    "age_group2 = ['13-17', '18-34', '35-54', '55-64+']"
   ]
  },
  {
   "cell_type": "code",
   "execution_count": 58,
   "metadata": {},
   "outputs": [
    {
     "data": {
      "text/plain": [
       "([6.8, 39.4, 58.3, 42.4, 35.4, 26.5, 21.1],\n",
       " [6.8, 97.69999999999999, 77.8, 47.6])"
      ]
     },
     "execution_count": 58,
     "metadata": {},
     "output_type": "execute_result"
    }
   ],
   "source": [
    "# 2. create a list of four numbers called users2 derived from users that correspond to the labels in age_group2\n",
    "\n",
    "#    index:   0     1    2     3     4     5     6\n",
    "#   users = [6.8, 39.4, 58.3, 42.4, 35.4, 26.5, 21.1]\n",
    "\n",
    "# users2 takes index 0, and means of indices 1+2, 3+4 & 5+6\n",
    "\n",
    "users2 = [users[0], sum(users[1:3]), sum(users[3:5]), sum(users[5:])]\n",
    "\n",
    "users, users2"
   ]
  },
  {
   "cell_type": "code",
   "execution_count": 60,
   "metadata": {},
   "outputs": [
    {
     "data": {
      "text/plain": [
       "Text(0.5, 1.0, 'US Facebook users in 2018 by age groups')"
      ]
     },
     "execution_count": 60,
     "metadata": {},
     "output_type": "execute_result"
    },
    {
     "data": {
      "image/png": "[encoded data removed]",
      "text/plain": [
       "<Figure size 432x288 with 1 Axes>"
      ]
     },
     "metadata": {
      "needs_background": "light"
     },
     "output_type": "display_data"
    }
   ],
   "source": [
    "# 3. create a bar plot like the one above\n",
    "plt.bar(age_group2, users2)\n",
    "plt.xlabel('Age group')\n",
    "plt.ylabel('# of users (millions)')\n",
    "plt.title('US Facebook users in 2018 by age groups')"
   ]
  },
  {
   "cell_type": "code",
   "execution_count": 61,
   "metadata": {},
   "outputs": [
    {
     "data": {
      "text/plain": [
       "229.9"
      ]
     },
     "execution_count": 61,
     "metadata": {},
     "output_type": "execute_result"
    }
   ],
   "source": [
    "# 4. What is the total number of users captured in these data?\n",
    "sum(users)\n"
   ]
  },
  {
   "cell_type": "markdown",
   "metadata": {},
   "source": [
    "## 3. Dictionaries\n",
    "\n",
    "* A `dictionary` is an unordered set of **KEY**-**VALUE** pairs\n",
    "\n",
    "\n",
    "* You can define one with curly braces `{` `}`\n",
    "\n",
    "\n",
    "* With a pair in the format: `key : value`\n",
    "\n",
    "\n",
    "* And pairs are separated by commas\n"
   ]
  },
  {
   "cell_type": "code",
   "execution_count": 62,
   "metadata": {},
   "outputs": [],
   "source": [
    "story_items = {\n",
    "         'bear': 3,\n",
    "         'girl': 1,\n",
    "         'table': 1,\n",
    "         'chair': 3,\n",
    "         'bowl': 3,\n",
    "         'bed': 3,\n",
    "         'house': 1\n",
    "        }"
   ]
  },
  {
   "cell_type": "markdown",
   "metadata": {},
   "source": [
    "* You can get the value of an item (key-value pair) in a dictionary by using the key as the index, e.g.\n",
    "    * `story_items['chair']` will find the item in the dictionary object with a key `chair` and return the associated value `3`"
   ]
  },
  {
   "cell_type": "code",
   "execution_count": 63,
   "metadata": {},
   "outputs": [
    {
     "data": {
      "text/plain": [
       "3"
      ]
     },
     "execution_count": 63,
     "metadata": {},
     "output_type": "execute_result"
    }
   ],
   "source": [
    "story_items['chair']"
   ]
  },
  {
   "cell_type": "markdown",
   "metadata": {},
   "source": [
    "* You will get an error if you try and retrieve the value for a key that does not exist in the dictionary."
   ]
  },
  {
   "cell_type": "code",
   "execution_count": 64,
   "metadata": {},
   "outputs": [
    {
     "ename": "KeyError",
     "evalue": "'tree'",
     "output_type": "error",
     "traceback": [
      "\u001b[0;31m---------------------------------------------------------------------------\u001b[0m",
      "\u001b[0;31mKeyError\u001b[0m                                  Traceback (most recent call last)",
      "\u001b[0;32m<ipython-input-64-06a8bd7e192c>\u001b[0m in \u001b[0;36m<module>\u001b[0;34m()\u001b[0m\n\u001b[0;32m----> 1\u001b[0;31m \u001b[0mstory_items\u001b[0m\u001b[0;34m[\u001b[0m\u001b[0;34m'tree'\u001b[0m\u001b[0;34m]\u001b[0m\u001b[0;34m\u001b[0m\u001b[0;34m\u001b[0m\u001b[0m\n\u001b[0m",
      "\u001b[0;31mKeyError\u001b[0m: 'tree'"
     ]
    }
   ],
   "source": [
    "story_items['tree']"
   ]
  },
  {
   "cell_type": "markdown",
   "metadata": {},
   "source": [
    "* You can add a new key-value pair to a dictionary like this:"
   ]
  },
  {
   "cell_type": "code",
   "execution_count": 65,
   "metadata": {},
   "outputs": [],
   "source": [
    "story_items['forest'] = 1"
   ]
  },
  {
   "cell_type": "code",
   "execution_count": 66,
   "metadata": {},
   "outputs": [
    {
     "data": {
      "text/plain": [
       "{'bear': 3,\n",
       " 'bed': 3,\n",
       " 'bowl': 3,\n",
       " 'chair': 3,\n",
       " 'forest': 1,\n",
       " 'girl': 1,\n",
       " 'house': 1,\n",
       " 'table': 1}"
      ]
     },
     "execution_count": 66,
     "metadata": {},
     "output_type": "execute_result"
    }
   ],
   "source": [
    "story_items"
   ]
  },
  {
   "cell_type": "markdown",
   "metadata": {},
   "source": [
    "* The value in a dictionary can be any kind of object including a `list` or even another `dictionary`"
   ]
  },
  {
   "cell_type": "code",
   "execution_count": 67,
   "metadata": {},
   "outputs": [],
   "source": [
    "goldilocks_story = {\n",
    "    'bears': ['papa', 'mama', 'baby'],\n",
    "    'girls': ['goldilocks'],\n",
    "    'chairs': [\"papa bear's\", \"mama bear's\", \"baby bear's\"],\n",
    "    'bowls': [\"papa bear's\", \"mama bear's\", \"baby bear's\"],\n",
    "    'beds': [\"papa bear's\", \"mama bear's\", \"baby bear's\"]\n",
    "}"
   ]
  },
  {
   "cell_type": "markdown",
   "metadata": {},
   "source": [
    "## TASK\n",
    "\n",
    "* Retrieve the values from `story_items` corresponding to the following keys:\n",
    "    * `bear`\n",
    "    * `girl`\n",
    "    * `table`"
   ]
  },
  {
   "cell_type": "code",
   "execution_count": 69,
   "metadata": {},
   "outputs": [
    {
     "data": {
      "text/plain": [
       "3"
      ]
     },
     "execution_count": 69,
     "metadata": {},
     "output_type": "execute_result"
    }
   ],
   "source": [
    "# how many bears are there? - use indexing on the dictionary story_items to answer\n",
    "story_items['bear']\n"
   ]
  },
  {
   "cell_type": "code",
   "execution_count": 70,
   "metadata": {},
   "outputs": [
    {
     "data": {
      "text/plain": [
       "1"
      ]
     },
     "execution_count": 70,
     "metadata": {},
     "output_type": "execute_result"
    }
   ],
   "source": [
    "# how many girls?\n",
    "story_items['girl']"
   ]
  },
  {
   "cell_type": "code",
   "execution_count": 71,
   "metadata": {},
   "outputs": [
    {
     "data": {
      "text/plain": [
       "1"
      ]
     },
     "execution_count": 71,
     "metadata": {},
     "output_type": "execute_result"
    }
   ],
   "source": [
    "# how many tables?\n",
    "story_items['table']"
   ]
  },
  {
   "cell_type": "markdown",
   "metadata": {},
   "source": [
    "* Now do the same thing with the second dictionary `goldilocks_story` which will return a list and then you can find out the length of that list\n",
    "\n",
    "\n",
    "* For example, to get a list of the bowls in the story do:\n",
    "  * `goldilocks_story['bowls']`\n",
    "  * then use `len()`\n",
    "  \n",
    "  "
   ]
  },
  {
   "cell_type": "code",
   "execution_count": 72,
   "metadata": {},
   "outputs": [
    {
     "data": {
      "text/plain": [
       "3"
      ]
     },
     "execution_count": 72,
     "metadata": {},
     "output_type": "execute_result"
    }
   ],
   "source": [
    "# using goldilocks_story dictionary - how many chairs are there?\n",
    "\n",
    "len(goldilocks_story['chairs'])"
   ]
  },
  {
   "cell_type": "code",
   "execution_count": 73,
   "metadata": {},
   "outputs": [
    {
     "data": {
      "text/plain": [
       "3"
      ]
     },
     "execution_count": 73,
     "metadata": {},
     "output_type": "execute_result"
    }
   ],
   "source": [
    "# using goldilocks_story dictionary - how many beds are there?\n",
    "len(goldilocks_story['beds'])"
   ]
  },
  {
   "cell_type": "markdown",
   "metadata": {},
   "source": [
    "* You can also add a second level of indexing as the value returned is a list.\n",
    "\n",
    "\n",
    "* For example:"
   ]
  },
  {
   "cell_type": "code",
   "execution_count": 169,
   "metadata": {},
   "outputs": [
    {
     "data": {
      "text/plain": [
       "[\"papa bear's\", \"mama bear's\", \"baby bear's\"]"
      ]
     },
     "execution_count": 169,
     "metadata": {},
     "output_type": "execute_result"
    }
   ],
   "source": [
    "goldilocks_story['beds']"
   ]
  },
  {
   "cell_type": "code",
   "execution_count": 170,
   "metadata": {},
   "outputs": [
    {
     "data": {
      "text/plain": [
       "\"mama bear's\""
      ]
     },
     "execution_count": 170,
     "metadata": {},
     "output_type": "execute_result"
    }
   ],
   "source": [
    "# who does the second bed in the list belong to?\n",
    "\n",
    "goldilocks_story['beds'][1]"
   ]
  },
  {
   "cell_type": "code",
   "execution_count": 74,
   "metadata": {},
   "outputs": [
    {
     "data": {
      "text/plain": [
       "\"papa bear's\""
      ]
     },
     "execution_count": 74,
     "metadata": {},
     "output_type": "execute_result"
    }
   ],
   "source": [
    "# who does the first chair belong to?\n",
    "goldilocks_story['chairs'][0]"
   ]
  },
  {
   "cell_type": "code",
   "execution_count": 75,
   "metadata": {},
   "outputs": [
    {
     "data": {
      "text/plain": [
       "\"baby bear's\""
      ]
     },
     "execution_count": 75,
     "metadata": {},
     "output_type": "execute_result"
    }
   ],
   "source": [
    "# who does the last bowl belong to?\n",
    "goldilocks_story['bowls'][-1]"
   ]
  },
  {
   "cell_type": "markdown",
   "metadata": {},
   "source": [
    "## TASK\n",
    "\n",
    "* Using the table below create two lists\n",
    "    1. `female` should be a list of the percentages in the second column\n",
    "    2. `male` should be a list of the percentages in the third column\n",
    "\n",
    "   _Note_ you should already have the first column in a list called `age_group`   \n",
    "\n",
    "\n",
    "<figure style=\"width:300px; padding: 10px; border: 1px solid gray\">\n",
    "<img src=\"img/fb_sharing_may2019.png\"/>\n",
    "\n",
    "<figcaption>Distribution of Facebook users in the United States as of May 2019, by age group and gender\n",
    "</figcaption>\n",
    "\n",
    "</figure>\n",
    "\n",
    "<small>Source: https://www.statista.com/statistics/187041/us-user-age-distribution-on-facebook/</small>\n",
    "\n",
    "\n",
    "* Now create a dictionary with a pointer called `fb_data` that has:\n",
    "    * three keys:\n",
    "        1. `age_group`\n",
    "        2. `female`\n",
    "        3. `male`\n",
    "    * and the matching values should be the corresponding lists"
   ]
  },
  {
   "cell_type": "code",
   "execution_count": 91,
   "metadata": {},
   "outputs": [
    {
     "data": {
      "text/plain": [
       "['13-17', '18-24', '25-34', '35-44', '45-54', '55-64', '65+']"
      ]
     },
     "execution_count": 91,
     "metadata": {},
     "output_type": "execute_result"
    }
   ],
   "source": [
    "age_group"
   ]
  },
  {
   "cell_type": "code",
   "execution_count": 81,
   "metadata": {},
   "outputs": [],
   "source": [
    "# create a list called female with the numbers from the second column of the table\n",
    "female = [1.0, 7.6, 12.5, 10.4, 9.3, 7.6, 7.1]\n",
    "\n",
    "# create a list called male with the numbers from the third column of the table\n",
    "male = [0.7, 6.5, 12.0, 8.7, 7.1, 5.2, 4.1]"
   ]
  },
  {
   "cell_type": "code",
   "execution_count": 92,
   "metadata": {},
   "outputs": [],
   "source": [
    "# create a dictionary with a pointer called fb_data with three items with keys age_group, female & male\n",
    "# and the correspond values for these keys will be the three lists\n",
    "\n",
    "fb_data = {\n",
    "            'age_group': age_group,\n",
    "            'female': female,\n",
    "            'male': male\n",
    "          }"
   ]
  },
  {
   "cell_type": "markdown",
   "metadata": {},
   "source": [
    "* Run the following cell to test whether your dictionary contains the correct values"
   ]
  },
  {
   "cell_type": "code",
   "execution_count": 93,
   "metadata": {},
   "outputs": [
    {
     "data": {
      "text/plain": [
       "{'age_group': ['13-17', '18-24', '25-34', '35-44', '45-54', '55-64', '65+'],\n",
       " 'female': [1.0, 7.6, 12.5, 10.4, 9.3, 7.6, 7.1],\n",
       " 'male': [0.7, 6.5, 12.0, 8.7, 7.1, 5.2, 4.1]}"
      ]
     },
     "execution_count": 93,
     "metadata": {},
     "output_type": "execute_result"
    }
   ],
   "source": [
    "fb_data"
   ]
  },
  {
   "cell_type": "code",
   "execution_count": 94,
   "metadata": {},
   "outputs": [
    {
     "name": "stdout",
     "output_type": "stream",
     "text": [
      ":) Great your dictionary is correct!\n"
     ]
    }
   ],
   "source": [
    "try:\n",
    "    assert(fb_data == {'age_group': ['13-17', '18-24', '25-34', '35-44', '45-54', '55-64', '65+'], 'female': [1.0, 7.6, 12.5, 10.4, 9.3, 7.6, 7.1], 'male': [0.7, 6.5, 12.0, 8.7, 7.1, 5.2, 4.1]})\n",
    "    print(':) Great your dictionary is correct!')\n",
    "except:\n",
    "    print(':( Something is wrong with your dictionary - try again')\n"
   ]
  },
  {
   "cell_type": "markdown",
   "metadata": {},
   "source": [
    "* Run the follow cell to produce a grouped bar plot\n",
    "\n",
    "\n",
    "* Add the x & y axis labels and a main title to the plot"
   ]
  },
  {
   "cell_type": "code",
   "execution_count": 99,
   "metadata": {},
   "outputs": [
    {
     "data": {
      "image/png": "[encoded data removed]",
      "text/plain": [
       "<Figure size 432x288 with 1 Axes>"
      ]
     },
     "metadata": {
      "needs_background": "light"
     },
     "output_type": "display_data"
    }
   ],
   "source": [
    "bar_width = 0.4\n",
    "\n",
    "x1 = range(len(fb_data['female']))\n",
    "x2 = [p+bar_width for p in x1]\n",
    "xpos = [p+bar_width/2 for p in x1]\n",
    "\n",
    "plt.bar(x1, fb_data['female'], width=bar_width, label='Female')\n",
    "plt.bar(x2, fb_data['male'], width=bar_width, label='Male')\n",
    "\n",
    "plt.xticks(xpos, age_group)\n",
    "\n",
    "# use plt.xlabel() to add a label \"Age group\" to the x-axis\n",
    "plt.xlabel('Age group')\n",
    "\n",
    "# use plt.ylabel() to add a label \"% of users by gender\" to the y-axis\n",
    "plt.ylabel('% of users by gender')\n",
    "\n",
    "# use plt.title() to add an appropriate title to the plot\n",
    "plt.title('Distribution of Facebook users in the United States as of May 2019,\\n by age group and gender')\n",
    "\n",
    "plt.legend()\n",
    "plt.show()"
   ]
  },
  {
   "cell_type": "code",
   "execution_count": null,
   "metadata": {},
   "outputs": [],
   "source": []
  },
  {
   "cell_type": "markdown",
   "metadata": {},
   "source": [
    "## Task\n",
    "\n",
    "* Here are two lists that capture the years on which data is available from Yellowstone on grizzy bears"
   ]
  },
  {
   "cell_type": "code",
   "execution_count": 100,
   "metadata": {},
   "outputs": [],
   "source": [
    "years = ['1980', '1981', '1982', '1983', '1984', '1985', '1986', '1987', \n",
    "        '1988', '1989', '1990', '1991', '1992', '1993', '1994', '1995', '1996', \n",
    "        '1997', '1998', '1999', '2000', '2001', '2002', '2003', '2004', '2005', '2006', \n",
    "        '2007', '2008', '2009', '2010', '2011', '2012', '2013', '2014', '2015', '2016', '2017']\n",
    "\n",
    "\n",
    "monitored = [34, 43, 46, 26, 35, 21, 29, 30, 46, 40, 35, 42, 41, 43, 60, 71, 76, 70, 58, \n",
    "             65, 84, 82, 81, 80, 78, 91, 92, 86, 87, 97, 85, 92, 112, 88, 94, 101, 106, 99]"
   ]
  },
  {
   "cell_type": "markdown",
   "metadata": {},
   "source": [
    "* Use functions to calculate\n",
    "    1. total number of bears monitored\n",
    "    2. the average number\n",
    "    \n",
    "    \n",
    "* Using slicing and functions make three new lists\n",
    "    1. `decade` which will be `'1980-1989', '1990-1999', etc.`\n",
    "    2. `decade_monitored` - the sum of all the bears monitored in the corresponding years\n",
    "    3. `decade_mean` - the mean of the bears monitored in the corresponding years"
   ]
  },
  {
   "cell_type": "code",
   "execution_count": 101,
   "metadata": {},
   "outputs": [
    {
     "data": {
      "text/plain": [
       "2546"
      ]
     },
     "execution_count": 101,
     "metadata": {},
     "output_type": "execute_result"
    }
   ],
   "source": [
    "# total number of bears monitored\n",
    "sum(monitored)\n"
   ]
  },
  {
   "cell_type": "code",
   "execution_count": 102,
   "metadata": {},
   "outputs": [
    {
     "data": {
      "text/plain": [
       "67.0"
      ]
     },
     "execution_count": 102,
     "metadata": {},
     "output_type": "execute_result"
    }
   ],
   "source": [
    "# average number of bears monitored in a year\n",
    "sum(monitored) / len(monitored)"
   ]
  },
  {
   "cell_type": "code",
   "execution_count": 103,
   "metadata": {},
   "outputs": [],
   "source": [
    "# create a new list called decade\n",
    "decade = ['1980-1989', '1990-1999', '2000-2009', '2010-2017']"
   ]
  },
  {
   "cell_type": "code",
   "execution_count": 105,
   "metadata": {},
   "outputs": [
    {
     "name": "stdout",
     "output_type": "stream",
     "text": [
      "1980-1989 0 => 10\n"
     ]
    }
   ],
   "source": [
    "# create decade_monitored\n",
    "\n",
    "# 1. find the start and end points for each decade\n",
    "s=years.index('1980')\n",
    "e=years.index('1989')\n",
    "\n",
    "print('1980-1989',s, '=>', e+1)"
   ]
  },
  {
   "cell_type": "markdown",
   "metadata": {},
   "source": [
    "* This lends itselt to a loop"
   ]
  },
  {
   "cell_type": "code",
   "execution_count": 114,
   "metadata": {},
   "outputs": [
    {
     "name": "stdout",
     "output_type": "stream",
     "text": [
      "1980-1989 0 => 10 ['1980', '1981', '1982', '1983', '1984', '1985', '1986', '1987', '1988', '1989']\n",
      "1990-1999 10 => 20 ['1990', '1991', '1992', '1993', '1994', '1995', '1996', '1997', '1998', '1999']\n",
      "2000-2009 20 => 30 ['2000', '2001', '2002', '2003', '2004', '2005', '2006', '2007', '2008', '2009']\n",
      "2010-2017 30 => 38 ['2010', '2011', '2012', '2013', '2014', '2015', '2016', '2017']\n"
     ]
    }
   ],
   "source": [
    "for d in decade:\n",
    "    \n",
    "    # process each string object in the list decade\n",
    "    # each time round loop the current object item will be pointed to by d\n",
    "    \n",
    "    # get the too parts of the decade string separated by -\n",
    "    # e.g. 1980-1989 becomes '1980' and '1989'\n",
    "    s_str, e_str = d.split('-')\n",
    "    \n",
    "    # find the index for each of these\n",
    "    s = years.index(s_str)\n",
    "    e = years.index(e_str)+1\n",
    "    \n",
    "    # print some checks out to make sure we are getting what we think we should\n",
    "    print(d, s,'=>', e, years[s:e])\n"
   ]
  },
  {
   "cell_type": "markdown",
   "metadata": {},
   "source": [
    "* This looks good, so we now want to use the same loop but this time to sum the monitored values"
   ]
  },
  {
   "cell_type": "code",
   "execution_count": 118,
   "metadata": {},
   "outputs": [],
   "source": [
    "decade_monitored = []\n",
    "decade_mean = []\n",
    "\n",
    "for d in decade:\n",
    "    \n",
    "    # process each string object in the list decade\n",
    "    # each time round loop the current object item will be pointed to by d\n",
    "    \n",
    "    # get the too parts of the decade string separated by -\n",
    "    # e.g. 1980-1989 becomes '1980' and '1989'\n",
    "    s_str, e_str = d.split('-')\n",
    "    \n",
    "    # find the index for each of these\n",
    "    s = years.index(s_str)\n",
    "    e = years.index(e_str)+1\n",
    "    \n",
    "    # add the sum of the monitored values for approprate years in the decade\n",
    "    decade_monitored.append(sum(monitored[s:e]))\n",
    "    \n",
    "    \n",
    "    decade_mean.append(sum(monitored[s:e])/len(years[s:e]))"
   ]
  },
  {
   "cell_type": "code",
   "execution_count": 116,
   "metadata": {},
   "outputs": [
    {
     "data": {
      "text/plain": [
       "[350, 561, 858, 777]"
      ]
     },
     "execution_count": 116,
     "metadata": {},
     "output_type": "execute_result"
    }
   ],
   "source": [
    "decade_monitored"
   ]
  },
  {
   "cell_type": "code",
   "execution_count": 119,
   "metadata": {},
   "outputs": [
    {
     "data": {
      "text/plain": [
       "[35.0, 56.1, 85.8, 97.125]"
      ]
     },
     "execution_count": 119,
     "metadata": {},
     "output_type": "execute_result"
    }
   ],
   "source": [
    "decade_mean\n"
   ]
  },
  {
   "cell_type": "markdown",
   "metadata": {},
   "source": [
    "* Create some bar plots using these lists"
   ]
  },
  {
   "cell_type": "code",
   "execution_count": 125,
   "metadata": {},
   "outputs": [
    {
     "data": {
      "text/plain": [
       "Text(0.5, 1.0, 'Number of grizzy bears monitored in Yellowstone (total by decade)')"
      ]
     },
     "execution_count": 125,
     "metadata": {},
     "output_type": "execute_result"
    },
    {
     "data": {
      "image/png": "[encoded data removed]",
      "text/plain": [
       "<Figure size 432x288 with 1 Axes>"
      ]
     },
     "metadata": {
      "needs_background": "light"
     },
     "output_type": "display_data"
    }
   ],
   "source": [
    "plt.bar(decade, decade_monitored)\n",
    "plt.xlabel('decade')\n",
    "plt.ylabel('# bears monitored across decade')\n",
    "plt.title('Number of grizzy bears monitored in Yellowstone (total by decade)')"
   ]
  },
  {
   "cell_type": "code",
   "execution_count": 127,
   "metadata": {},
   "outputs": [
    {
     "data": {
      "text/plain": [
       "Text(0.5, 1.0, 'Average number of grizzy bears monitored in Yellowstone (mean year by decade)')"
      ]
     },
     "execution_count": 127,
     "metadata": {},
     "output_type": "execute_result"
    },
    {
     "data": {
      "image/png": "[encoded data removed]",
      "text/plain": [
       "<Figure size 432x288 with 1 Axes>"
      ]
     },
     "metadata": {
      "needs_background": "light"
     },
     "output_type": "display_data"
    }
   ],
   "source": [
    "plt.bar(decade, decade_mean)\n",
    "plt.xlabel('decade')\n",
    "plt.ylabel('mean bears monitored per year')\n",
    "plt.title('Average number of grizzy bears monitored in Yellowstone (mean year by decade)')"
   ]
  },
  {
   "cell_type": "markdown",
   "metadata": {},
   "source": [
    "* Look at the lecture notebook and create some line plots of\n",
    "    1. the complete year by year dataset (using `years` and `monitored`)\n",
    "    2. the decade aggregated data"
   ]
  },
  {
   "cell_type": "code",
   "execution_count": 137,
   "metadata": {},
   "outputs": [
    {
     "data": {
      "text/plain": [
       "Text(0.5, 1.0, 'Number of bears monitored in Yellowstone 1980-2017')"
      ]
     },
     "execution_count": 137,
     "metadata": {},
     "output_type": "execute_result"
    },
    {
     "data": {
      "image/png": "[encoded data removed]",
      "text/plain": [
       "<Figure size 864x288 with 1 Axes>"
      ]
     },
     "metadata": {
      "needs_background": "light"
     },
     "output_type": "display_data"
    }
   ],
   "source": [
    "plt.figure(figsize=(12,4))\n",
    "plt.plot(years, monitored, '-o')\n",
    "plt.xticks(years, years, rotation='vertical')\n",
    "plt.title('Number of bears monitored in Yellowstone 1980-2017')"
   ]
  },
  {
   "cell_type": "code",
   "execution_count": 141,
   "metadata": {},
   "outputs": [
    {
     "data": {
      "text/plain": [
       "Text(0.5, 1.0, 'Total number of bears monitored each decade in Yellowstone 1980-2017')"
      ]
     },
     "execution_count": 141,
     "metadata": {},
     "output_type": "execute_result"
    },
    {
     "data": {
      "image/png": "[encoded data removed]",
      "text/plain": [
       "<Figure size 432x288 with 1 Axes>"
      ]
     },
     "metadata": {
      "needs_background": "light"
     },
     "output_type": "display_data"
    }
   ],
   "source": [
    "plt.plot(decade, decade_monitored, '-o')\n",
    "plt.title('Total number of bears monitored each decade in Yellowstone 1980-2017')"
   ]
  },
  {
   "cell_type": "code",
   "execution_count": 142,
   "metadata": {},
   "outputs": [
    {
     "data": {
      "text/plain": [
       "Text(0.5, 1.0, 'Average number of bears monitored each year in Yellowstone 1980-2017')"
      ]
     },
     "execution_count": 142,
     "metadata": {},
     "output_type": "execute_result"
    },
    {
     "data": {
      "image/png": "[encoded data removed]",
      "text/plain": [
       "<Figure size 432x288 with 1 Axes>"
      ]
     },
     "metadata": {
      "needs_background": "light"
     },
     "output_type": "display_data"
    }
   ],
   "source": [
    "plt.plot(decade, decade_mean, '-o')\n",
    "plt.title('Average number of bears monitored each year in Yellowstone 1980-2017')"
   ]
  },
  {
   "cell_type": "markdown",
   "metadata": {},
   "source": [
    "#### Think about the differences in the trends shown in the lines here\n",
    "\n",
    "* An upward trend is seen in all three plots.\n",
    "\n",
    "\n",
    "* The first with the year-by-year monitoring is the most sensitive to variations and shows some instability in the year-to-year numbers. So it is classified as a non-linear (i.e. ups and downs, like the stock market) upward trending line.\n",
    "\n",
    "\n",
    "* When we aggregate by decade there is a larger scale trend seen on the scale of 10 years at a time. The final point seems to suggest a drop off - **BUT** only 7 years are represented in the data because 2017 is the last year monitored.\n",
    "\n",
    "\n",
    "* Taking the mean or average of each decade group can adjust this last point and shows a simple linear upward trend."
   ]
  }
 ],
 "metadata": {
  "kernelspec": {
   "display_name": "Python 3",
   "language": "python",
   "name": "python3"
  },
  "language_info": {
   "codemirror_mode": {
    "name": "ipython",
    "version": 3
   },
   "file_extension": ".py",
   "mimetype": "text/x-python",
   "name": "python",
   "nbconvert_exporter": "python",
   "pygments_lexer": "ipython3",
   "version": "3.7.3"
  }
 },
 "nbformat": 4,
 "nbformat_minor": 2
}
