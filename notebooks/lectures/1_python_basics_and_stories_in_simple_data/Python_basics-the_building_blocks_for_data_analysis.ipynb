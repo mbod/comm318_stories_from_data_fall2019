{
 "cells": [
  {
   "cell_type": "markdown",
   "metadata": {},
   "source": [
    "# Some Python basics and finding simple stories in data \n",
    "\n",
    "<img style=\"float: left\" src=\"img/python_logo.png\"/>\n",
    "<img style=\"float: left\" src=\"img/bear_stats.png\"/>\n",
    "<img src=\"img/three_bears.jpg\"/>\n",
    "\n",
    "\n",
    "## COMM318 Fall 2019 (09/03/19)\n",
    "\n",
    "### Instructor: Matt O'Donnell (mbod@asc.upenn.edu)\n",
    "\n",
    "-----\n",
    "\n",
    "## Overview\n",
    "\n",
    "* This notebook will cover some of the very basics of Python programming that serve as the building blocks for being able to use Python for data analysis and finding stories in data. These are:\n",
    "    * __OBJECTS__ - a core concept for programming Python, where an object holds data of different types and a group of actions (functions) that can be applied to these data \n",
    "    * __LISTS__ - a simple ordered sequence data structure\n",
    "    * __DICTIONARIES__ - a data structure that links a label or key with a piece of data\n",
    "    * __CONDITIONS__ - a way of carrying out different actions based on a logic test\n",
    "    * __LOOPS__ - a way of repeating an action or series of action in code\n",
    "    * __FUNCTIONS__ - a reusable and flexible way of grouping steps together for reuse\n",
    "\n",
    "\n",
    "* The second notebook focuses on starting to think about how we look for the stories that may be present even in the simplest and smallest data sets.\n",
    "\n",
    "------"
   ]
  },
  {
   "cell_type": "markdown",
   "metadata": {},
   "source": [
    "## Big picture\n",
    "\n",
    "* The goal of this class is to begin to acquire some basic skills in Python programming __SO THAT__ you will be able to work with available datasets of various types and sizes and be able to wrangle, transform and analyze them so that you find and tell stories in them.\n",
    "\n",
    "\n",
    "* With this applied goal, we will try not to get into many of the details and concepts of programming and Python that you might in an introductory programming or data structures class with Python in, say, a computer science context.\n",
    "\n",
    "\n",
    "* However, we will need to cover some basic concepts (objects) and learn about the core building blocks of the Python language (lists, dictionaries, loops etc)."
   ]
  },
  {
   "cell_type": "markdown",
   "metadata": {},
   "source": [
    "## 1. Objects\n",
    "\n",
    "\n",
    "* __Objects are things that have _properties_ (DATA) and related _actions_ they can do (FUNCTIONS)__. \n",
    "\n",
    "\n",
    "* An object in a programming language like Python, is a way to represent or model THINGS in the real world. Things tend to have features or properties (shape, size, weight, number of legs, and so on) and actions they are involved in (bouncing, rolling, walking, running, being filled, and so on).\n",
    "\n",
    "\n",
    "* For example, in _Goldilocks and the three bears_ the following things can be modeled as objects.\n",
    "\n",
    "\n",
    "|  OBJECT | PROPERTIES     | FUNCTIONS |\n",
    "| :-----: | :--------:     | :-------: |\n",
    "|  __table__  | legs (4), top      | support, fold      |\n",
    "|  __bowl__   | size, weight, full/empty | be filled/emptied, be washed |\n",
    "|  __chair__  | legs (4), seat, arms | be sat/stood on |\n",
    "|  __bed__    | legs (4), mattress   | be slept in |\n",
    "|  __girl__   | legs (2), arms, hands, feet, head, name, hair, age | walk, eat, think, sleep |\n",
    "|  __bear__   | legs (4), paws, fur, eyes | run, climb, eat, sleep, speak(?) |\n",
    "\n",
    "\n",
    "* Objects can also referred to as __CLASSES__ in some contexts."
   ]
  },
  {
   "cell_type": "markdown",
   "metadata": {},
   "source": [
    "### An example object is a _string_ \n",
    "\n",
    "* A string in Python is a way to represent a word or a piece of text data.\n",
    "\n",
    "\n",
    "* A string is a _sequence_ (or list) of characters.\n",
    "\n",
    "\n",
    "* To define a string in Python you use a pair of __matching__ quotes (either single or double), e.g."
   ]
  },
  {
   "cell_type": "code",
   "execution_count": 146,
   "metadata": {},
   "outputs": [
    {
     "data": {
      "text/plain": [
       "'this is a string object'"
      ]
     },
     "execution_count": 146,
     "metadata": {},
     "output_type": "execute_result"
    }
   ],
   "source": [
    "\"this is a string object\""
   ]
  },
  {
   "cell_type": "markdown",
   "metadata": {},
   "source": [
    "* There are some _generic functions_ in Python that can be used on most objects.\n",
    "\n",
    "\n",
    "* The syntax for these functions is:\n",
    "    * `function_name(object)`\n",
    "\n",
    "\n",
    "* These include:\n",
    "    * `print` - display a represenation of the data\n",
    "    * `len` - the size (length) of the data held by the object\n",
    "    * `type` - show what kind of object this is\n",
    "    * `dir` - list the features and functions/methods of the object\n"
   ]
  },
  {
   "cell_type": "code",
   "execution_count": 156,
   "metadata": {},
   "outputs": [
    {
     "name": "stdout",
     "output_type": "stream",
     "text": [
      "this is a string object\n"
     ]
    }
   ],
   "source": [
    "print(\"this is a string object\")"
   ]
  },
  {
   "cell_type": "code",
   "execution_count": 147,
   "metadata": {},
   "outputs": [
    {
     "data": {
      "text/plain": [
       "23"
      ]
     },
     "execution_count": 147,
     "metadata": {},
     "output_type": "execute_result"
    }
   ],
   "source": [
    "len(\"this is a string object\")"
   ]
  },
  {
   "cell_type": "markdown",
   "metadata": {},
   "source": [
    "* There are `23` characters in the string object `this is a string object`"
   ]
  },
  {
   "cell_type": "code",
   "execution_count": 149,
   "metadata": {},
   "outputs": [
    {
     "data": {
      "text/plain": [
       "str"
      ]
     },
     "execution_count": 149,
     "metadata": {},
     "output_type": "execute_result"
    }
   ],
   "source": [
    "type(\"this is a string object\")"
   ]
  },
  {
   "cell_type": "markdown",
   "metadata": {},
   "source": [
    "#### Named pointers\n",
    "\n",
    "* We can define a named pointer to link to an object so that we can refer to it in other parts of our code.\n",
    "\n",
    "\n",
    "* The syntax for this is:\n",
    "    * `pointer_name = OBJECT`\n",
    "    * for example:"
   ]
  },
  {
   "cell_type": "code",
   "execution_count": 144,
   "metadata": {},
   "outputs": [],
   "source": [
    "sent1='Once upon a time, there was a little girl named Goldilocks.'"
   ]
  },
  {
   "cell_type": "markdown",
   "metadata": {},
   "source": [
    "* Now we can get to (or reference) the string object using the pointer `sent1`"
   ]
  },
  {
   "cell_type": "code",
   "execution_count": 157,
   "metadata": {},
   "outputs": [
    {
     "name": "stdout",
     "output_type": "stream",
     "text": [
      "Once upon a time, there was a little girl named Goldilocks.\n"
     ]
    }
   ],
   "source": [
    "print(sent1)"
   ]
  },
  {
   "cell_type": "code",
   "execution_count": 159,
   "metadata": {},
   "outputs": [
    {
     "data": {
      "text/plain": [
       "59"
      ]
     },
     "execution_count": 159,
     "metadata": {},
     "output_type": "execute_result"
    }
   ],
   "source": [
    "len(sent1)"
   ]
  },
  {
   "cell_type": "code",
   "execution_count": 158,
   "metadata": {},
   "outputs": [
    {
     "data": {
      "text/plain": [
       "str"
      ]
     },
     "execution_count": 158,
     "metadata": {},
     "output_type": "execute_result"
    }
   ],
   "source": [
    "type(sent1)"
   ]
  },
  {
   "cell_type": "markdown",
   "metadata": {},
   "source": [
    "* Functions (or methods) that are specific to an object can be applied to an instance of an object using the _dot notation_ where the syntax is:\n",
    "    * `object.function()`\n",
    "    \n",
    "    \n",
    "* For example, applying the `upper()` function on a string object will transform all the characters in the string into uppercase form:"
   ]
  },
  {
   "cell_type": "code",
   "execution_count": 160,
   "metadata": {},
   "outputs": [
    {
     "data": {
      "text/plain": [
       "'ONCE UPON A TIME, THERE WAS A LITTLE GIRL NAMED GOLDILOCKS.'"
      ]
     },
     "execution_count": 160,
     "metadata": {},
     "output_type": "execute_result"
    }
   ],
   "source": [
    "sent1.upper()"
   ]
  },
  {
   "cell_type": "markdown",
   "metadata": {},
   "source": [
    "* Similarly, the `lower()` function transforms all the characters in a string into lower case."
   ]
  },
  {
   "cell_type": "code",
   "execution_count": 163,
   "metadata": {},
   "outputs": [
    {
     "data": {
      "text/plain": [
       "'once upon a time, there was a little girl named goldilocks.'"
      ]
     },
     "execution_count": 163,
     "metadata": {},
     "output_type": "execute_result"
    }
   ],
   "source": [
    "sent1.lower()"
   ]
  },
  {
   "cell_type": "markdown",
   "metadata": {},
   "source": [
    "* And the `title()` function makes the first character of each 'word' (determined by whitespace) an uppercase character."
   ]
  },
  {
   "cell_type": "code",
   "execution_count": 164,
   "metadata": {},
   "outputs": [
    {
     "data": {
      "text/plain": [
       "'Once Upon A Time, There Was A Little Girl Named Goldilocks.'"
      ]
     },
     "execution_count": 164,
     "metadata": {},
     "output_type": "execute_result"
    }
   ],
   "source": [
    "sent1.title()"
   ]
  },
  {
   "cell_type": "markdown",
   "metadata": {},
   "source": [
    "* __NOTE__ that applying these functions to the object pointed to by `sent1` does not change the object itself.\n",
    "\n",
    "\n",
    "* If we follow the pointer `sent1` to the string object, we see the original form of the string is still there: "
   ]
  },
  {
   "cell_type": "code",
   "execution_count": 165,
   "metadata": {},
   "outputs": [
    {
     "data": {
      "text/plain": [
       "'Once upon a time, there was a little girl named Goldilocks.'"
      ]
     },
     "execution_count": 165,
     "metadata": {},
     "output_type": "execute_result"
    }
   ],
   "source": [
    "sent1"
   ]
  },
  {
   "cell_type": "code",
   "execution_count": 166,
   "metadata": {},
   "outputs": [],
   "source": [
    "sent1_UC = sent1.upper()"
   ]
  },
  {
   "cell_type": "code",
   "execution_count": 170,
   "metadata": {},
   "outputs": [
    {
     "name": "stdout",
     "output_type": "stream",
     "text": [
      "sent1 points to => Once upon a time, there was a little girl named Goldilocks.\n",
      "\n",
      "sent1_UC points to => ONCE UPON A TIME, THERE WAS A LITTLE GIRL NAMED GOLDILOCKS.\n"
     ]
    }
   ],
   "source": [
    "print('sent1 points to =>', sent1)\n",
    "print()\n",
    "print('sent1_UC points to =>', sent1_UC)"
   ]
  },
  {
   "cell_type": "code",
   "execution_count": 182,
   "metadata": {},
   "outputs": [],
   "source": [
    "sent2='She went for a walk in the forest.'\n",
    "sent3='Pretty soon, she came upon a house.'\n",
    "sent4='She knocked and, when no one answered, she walked right in.'"
   ]
  },
  {
   "cell_type": "markdown",
   "metadata": {},
   "source": [
    "* Some of the specific string object functions are __LOGICAL TESTS__ that will test whether certain things are TRUE or FALSE about the data.\n",
    "\n",
    "\n",
    "* For example, the `startswith(test_str)` function compares the beginning of the string data in a string object with the `test_str` and returns `True` if it matches and `False` if it does not. "
   ]
  },
  {
   "cell_type": "code",
   "execution_count": 173,
   "metadata": {},
   "outputs": [
    {
     "data": {
      "text/plain": [
       "True"
      ]
     },
     "execution_count": 173,
     "metadata": {},
     "output_type": "execute_result"
    }
   ],
   "source": [
    "sent2.startswith('S')"
   ]
  },
  {
   "cell_type": "code",
   "execution_count": 183,
   "metadata": {},
   "outputs": [
    {
     "data": {
      "text/plain": [
       "True"
      ]
     },
     "execution_count": 183,
     "metadata": {},
     "output_type": "execute_result"
    }
   ],
   "source": [
    "sent2.startswith('She')"
   ]
  },
  {
   "cell_type": "code",
   "execution_count": 184,
   "metadata": {},
   "outputs": [
    {
     "data": {
      "text/plain": [
       "False"
      ]
     },
     "execution_count": 184,
     "metadata": {},
     "output_type": "execute_result"
    }
   ],
   "source": [
    "sent2.startswith('she')"
   ]
  },
  {
   "cell_type": "code",
   "execution_count": 178,
   "metadata": {},
   "outputs": [
    {
     "data": {
      "text/plain": [
       "False"
      ]
     },
     "execution_count": 178,
     "metadata": {},
     "output_type": "execute_result"
    }
   ],
   "source": [
    "sent3.endswith('!')"
   ]
  },
  {
   "cell_type": "code",
   "execution_count": 179,
   "metadata": {},
   "outputs": [
    {
     "data": {
      "text/plain": [
       "False"
      ]
     },
     "execution_count": 179,
     "metadata": {},
     "output_type": "execute_result"
    }
   ],
   "source": [
    "sent4.islower()"
   ]
  },
  {
   "cell_type": "code",
   "execution_count": 180,
   "metadata": {},
   "outputs": [
    {
     "data": {
      "text/plain": [
       "'she knocked and, when no one answered, she walked right in.'"
      ]
     },
     "execution_count": 180,
     "metadata": {},
     "output_type": "execute_result"
    }
   ],
   "source": [
    "sent4.lower()"
   ]
  },
  {
   "cell_type": "code",
   "execution_count": 181,
   "metadata": {},
   "outputs": [
    {
     "data": {
      "text/plain": [
       "True"
      ]
     },
     "execution_count": 181,
     "metadata": {},
     "output_type": "execute_result"
    }
   ],
   "source": [
    "sent4.lower().islower()"
   ]
  },
  {
   "cell_type": "markdown",
   "metadata": {},
   "source": [
    "* The `dir()` function will list the functions that are specific to a specific class. You do not often need to use it or worry about the details at this stage. And you can ignore the items beginning with the double underscores for now.\n",
    "\n",
    "\n",
    "* But if you look down the list you will see some of the things that can be done with string objects."
   ]
  },
  {
   "cell_type": "code",
   "execution_count": 177,
   "metadata": {
    "scrolled": true
   },
   "outputs": [
    {
     "data": {
      "text/plain": [
       "['__add__',\n",
       " '__class__',\n",
       " '__contains__',\n",
       " '__delattr__',\n",
       " '__dir__',\n",
       " '__doc__',\n",
       " '__eq__',\n",
       " '__format__',\n",
       " '__ge__',\n",
       " '__getattribute__',\n",
       " '__getitem__',\n",
       " '__getnewargs__',\n",
       " '__gt__',\n",
       " '__hash__',\n",
       " '__init__',\n",
       " '__init_subclass__',\n",
       " '__iter__',\n",
       " '__le__',\n",
       " '__len__',\n",
       " '__lt__',\n",
       " '__mod__',\n",
       " '__mul__',\n",
       " '__ne__',\n",
       " '__new__',\n",
       " '__reduce__',\n",
       " '__reduce_ex__',\n",
       " '__repr__',\n",
       " '__rmod__',\n",
       " '__rmul__',\n",
       " '__setattr__',\n",
       " '__sizeof__',\n",
       " '__str__',\n",
       " '__subclasshook__',\n",
       " 'capitalize',\n",
       " 'casefold',\n",
       " 'center',\n",
       " 'count',\n",
       " 'encode',\n",
       " 'endswith',\n",
       " 'expandtabs',\n",
       " 'find',\n",
       " 'format',\n",
       " 'format_map',\n",
       " 'index',\n",
       " 'isalnum',\n",
       " 'isalpha',\n",
       " 'isascii',\n",
       " 'isdecimal',\n",
       " 'isdigit',\n",
       " 'isidentifier',\n",
       " 'islower',\n",
       " 'isnumeric',\n",
       " 'isprintable',\n",
       " 'isspace',\n",
       " 'istitle',\n",
       " 'isupper',\n",
       " 'join',\n",
       " 'ljust',\n",
       " 'lower',\n",
       " 'lstrip',\n",
       " 'maketrans',\n",
       " 'partition',\n",
       " 'replace',\n",
       " 'rfind',\n",
       " 'rindex',\n",
       " 'rjust',\n",
       " 'rpartition',\n",
       " 'rsplit',\n",
       " 'rstrip',\n",
       " 'split',\n",
       " 'splitlines',\n",
       " 'startswith',\n",
       " 'strip',\n",
       " 'swapcase',\n",
       " 'title',\n",
       " 'translate',\n",
       " 'upper',\n",
       " 'zfill']"
      ]
     },
     "execution_count": 177,
     "metadata": {},
     "output_type": "execute_result"
    }
   ],
   "source": [
    "dir(str)"
   ]
  },
  {
   "cell_type": "code",
   "execution_count": 185,
   "metadata": {},
   "outputs": [
    {
     "name": "stdout",
     "output_type": "stream",
     "text": [
      "Help on method_descriptor:\n",
      "\n",
      "strip(self, chars=None, /)\n",
      "    Return a copy of the string with leading and trailing whitespace remove.\n",
      "    \n",
      "    If chars is given and not None, remove characters in chars instead.\n",
      "\n"
     ]
    }
   ],
   "source": [
    "help(str.strip)"
   ]
  },
  {
   "cell_type": "code",
   "execution_count": 186,
   "metadata": {},
   "outputs": [
    {
     "data": {
      "text/plain": [
       "'Once upon a time'"
      ]
     },
     "execution_count": 186,
     "metadata": {},
     "output_type": "execute_result"
    }
   ],
   "source": [
    "\"    Once upon a time   \".strip()"
   ]
  },
  {
   "cell_type": "markdown",
   "metadata": {},
   "source": [
    "* We have used the `str` object as an example here because it is a little more complex than the objects used for numbers. But for this class we are most often interested in numbers of different types.\n",
    "\n",
    "\n",
    "* The two most common number objects we'll encounter are:\n",
    "    1. __INTEGERS__ - these are whole numbers (negative, positive and zero)\n",
    "    2. __FLOATS__ - these are a way to model numbers with a decimal point and various amounts of precision, e.g. `1.5`, `17.323231`, etc.|"
   ]
  },
  {
   "cell_type": "code",
   "execution_count": 187,
   "metadata": {},
   "outputs": [
    {
     "data": {
      "text/plain": [
       "int"
      ]
     },
     "execution_count": 187,
     "metadata": {},
     "output_type": "execute_result"
    }
   ],
   "source": [
    "type(1)"
   ]
  },
  {
   "cell_type": "code",
   "execution_count": 188,
   "metadata": {},
   "outputs": [
    {
     "data": {
      "text/plain": [
       "float"
      ]
     },
     "execution_count": 188,
     "metadata": {},
     "output_type": "execute_result"
    }
   ],
   "source": [
    "type(1.232)"
   ]
  },
  {
   "cell_type": "markdown",
   "metadata": {},
   "source": [
    "## 2. Lists\n",
    "\n",
    "* __LISTS are ordered sequences of objects__.\n",
    "\n",
    "\n",
    "* Lists have:\n",
    "    * a _length_\n",
    "    * a _beginning_ or _start_ point\n",
    "    * an _ending_ point\n",
    "    * zero or more items in them\n",
    "        * a list contain zero items is called _an empty list_\n",
    "    * index points to locate items\n",
    "\n",
    "\n",
    "* In Python the boundaries of a list are indicated using square brackets\n",
    "\n",
    "\n",
    "* In Python items in a list are separated by commas\n",
    "\n",
    "\n",
    "* In Python the items (objects) in a list __DO NOT__ need to be of the same type"
   ]
  },
  {
   "cell_type": "code",
   "execution_count": 189,
   "metadata": {},
   "outputs": [],
   "source": [
    "list_of_ints = [2,3,5,7,11]"
   ]
  },
  {
   "cell_type": "code",
   "execution_count": 191,
   "metadata": {},
   "outputs": [
    {
     "data": {
      "text/plain": [
       "5"
      ]
     },
     "execution_count": 191,
     "metadata": {},
     "output_type": "execute_result"
    }
   ],
   "source": [
    "len(list_of_ints)"
   ]
  },
  {
   "cell_type": "code",
   "execution_count": 192,
   "metadata": {},
   "outputs": [
    {
     "name": "stdout",
     "output_type": "stream",
     "text": [
      "[2, 3, 5, 7, 11]\n"
     ]
    }
   ],
   "source": [
    "print(list_of_ints)"
   ]
  },
  {
   "cell_type": "markdown",
   "metadata": {},
   "source": [
    "### Indexing lists\n",
    "\n",
    "* We can reference specific items in a `list` using **INDEXING**\n",
    "* In Python indexes begin at **ZERO**/**0**\n",
    "* So `list_of_ints[1]` is the number `3` and *not* `2` which is `list_of_ints[0]`"
   ]
  },
  {
   "cell_type": "code",
   "execution_count": 193,
   "metadata": {},
   "outputs": [
    {
     "data": {
      "text/plain": [
       "2"
      ]
     },
     "execution_count": 193,
     "metadata": {},
     "output_type": "execute_result"
    }
   ],
   "source": [
    "list_of_ints[0]"
   ]
  },
  {
   "cell_type": "code",
   "execution_count": 194,
   "metadata": {},
   "outputs": [
    {
     "data": {
      "text/plain": [
       "3"
      ]
     },
     "execution_count": 194,
     "metadata": {},
     "output_type": "execute_result"
    }
   ],
   "source": [
    "list_of_ints[1]"
   ]
  },
  {
   "cell_type": "code",
   "execution_count": 195,
   "metadata": {},
   "outputs": [
    {
     "data": {
      "text/plain": [
       "11"
      ]
     },
     "execution_count": 195,
     "metadata": {},
     "output_type": "execute_result"
    }
   ],
   "source": [
    "list_of_ints[-1]"
   ]
  },
  {
   "cell_type": "markdown",
   "metadata": {},
   "source": [
    "* This is \n",
    "![](img/list-indexing.png)\n",
    "\n",
    "* And you can **INDEX** and **SLICE** items in a list to retrieve them\n"
   ]
  },
  {
   "cell_type": "markdown",
   "metadata": {},
   "source": [
    "### Slicing lists\n",
    "\n",
    "* Slicing is a way of accessing a continuous subsequence from a list\n",
    "\n",
    "\n",
    "* A slice is defined with a\n",
    "    * _start index point_\n",
    "    * _end index point_\n",
    "    * separated by a colon `:`\n",
    "    "
   ]
  },
  {
   "cell_type": "code",
   "execution_count": 206,
   "metadata": {},
   "outputs": [
    {
     "data": {
      "text/plain": [
       "[2, 3]"
      ]
     },
     "execution_count": 206,
     "metadata": {},
     "output_type": "execute_result"
    }
   ],
   "source": [
    "list_of_ints[0:2]"
   ]
  },
  {
   "cell_type": "code",
   "execution_count": 207,
   "metadata": {},
   "outputs": [
    {
     "data": {
      "text/plain": [
       "[3, 5, 7]"
      ]
     },
     "execution_count": 207,
     "metadata": {},
     "output_type": "execute_result"
    }
   ],
   "source": [
    "list_of_ints[1:4]"
   ]
  },
  {
   "cell_type": "markdown",
   "metadata": {},
   "source": [
    "* When you have a list of numbers you can apply certain functions like:\n",
    "    * `sum()`\n",
    "    * `min()`\n",
    "    * `max()`"
   ]
  },
  {
   "cell_type": "code",
   "execution_count": 208,
   "metadata": {},
   "outputs": [
    {
     "data": {
      "text/plain": [
       "28"
      ]
     },
     "execution_count": 208,
     "metadata": {},
     "output_type": "execute_result"
    }
   ],
   "source": [
    "sum(list_of_ints)"
   ]
  },
  {
   "cell_type": "code",
   "execution_count": 209,
   "metadata": {},
   "outputs": [
    {
     "data": {
      "text/plain": [
       "2"
      ]
     },
     "execution_count": 209,
     "metadata": {},
     "output_type": "execute_result"
    }
   ],
   "source": [
    "min(list_of_ints)"
   ]
  },
  {
   "cell_type": "code",
   "execution_count": 210,
   "metadata": {},
   "outputs": [
    {
     "data": {
      "text/plain": [
       "11"
      ]
     },
     "execution_count": 210,
     "metadata": {},
     "output_type": "execute_result"
    }
   ],
   "source": [
    "max(list_of_ints)"
   ]
  },
  {
   "cell_type": "markdown",
   "metadata": {},
   "source": [
    "## 3. Dictionaries\n",
    "\n",
    "* A `dictionary` is an unordered set of **KEY**-**VALUE** pairs\n",
    "* You can define one with curly braces `{` `}`\n",
    "* With a pair in the format: `key : value`\n",
    "* And pairs are separated by commas"
   ]
  },
  {
   "cell_type": "code",
   "execution_count": 197,
   "metadata": {},
   "outputs": [],
   "source": [
    "story_items = {'bear': 3,\n",
    "         'girl': 1,\n",
    "         'table': 1,\n",
    "         'chair': 3,\n",
    "         'bowl': 3,\n",
    "         'bed': 3,\n",
    "         'house': 1\n",
    "        }"
   ]
  },
  {
   "cell_type": "code",
   "execution_count": 200,
   "metadata": {},
   "outputs": [
    {
     "data": {
      "text/plain": [
       "dict"
      ]
     },
     "execution_count": 200,
     "metadata": {},
     "output_type": "execute_result"
    }
   ],
   "source": [
    "type(story_items)"
   ]
  },
  {
   "cell_type": "code",
   "execution_count": 198,
   "metadata": {},
   "outputs": [
    {
     "name": "stdout",
     "output_type": "stream",
     "text": [
      "{'bear': 3, 'girl': 1, 'table': 1, 'chair': 3, 'bowl': 3, 'bed': 3, 'house': 1}\n"
     ]
    }
   ],
   "source": [
    "print(story_items)"
   ]
  },
  {
   "cell_type": "code",
   "execution_count": 199,
   "metadata": {},
   "outputs": [
    {
     "data": {
      "text/plain": [
       "7"
      ]
     },
     "execution_count": 199,
     "metadata": {},
     "output_type": "execute_result"
    }
   ],
   "source": [
    "len(story_items)"
   ]
  },
  {
   "cell_type": "code",
   "execution_count": 201,
   "metadata": {},
   "outputs": [
    {
     "data": {
      "text/plain": [
       "3"
      ]
     },
     "execution_count": 201,
     "metadata": {},
     "output_type": "execute_result"
    }
   ],
   "source": [
    "story_items['bear']"
   ]
  },
  {
   "cell_type": "code",
   "execution_count": 202,
   "metadata": {},
   "outputs": [
    {
     "data": {
      "text/plain": [
       "1"
      ]
     },
     "execution_count": 202,
     "metadata": {},
     "output_type": "execute_result"
    }
   ],
   "source": [
    "story_items['table']"
   ]
  },
  {
   "cell_type": "code",
   "execution_count": 203,
   "metadata": {},
   "outputs": [
    {
     "data": {
      "text/plain": [
       "dict_keys(['bear', 'girl', 'table', 'chair', 'bowl', 'bed', 'house'])"
      ]
     },
     "execution_count": 203,
     "metadata": {},
     "output_type": "execute_result"
    }
   ],
   "source": [
    "story_items.keys()"
   ]
  },
  {
   "cell_type": "code",
   "execution_count": 204,
   "metadata": {},
   "outputs": [
    {
     "data": {
      "text/plain": [
       "dict_values([3, 1, 1, 3, 3, 3, 1])"
      ]
     },
     "execution_count": 204,
     "metadata": {},
     "output_type": "execute_result"
    }
   ],
   "source": [
    "story_items.values()"
   ]
  },
  {
   "cell_type": "code",
   "execution_count": 205,
   "metadata": {},
   "outputs": [
    {
     "data": {
      "text/plain": [
       "dict_items([('bear', 3), ('girl', 1), ('table', 1), ('chair', 3), ('bowl', 3), ('bed', 3), ('house', 1)])"
      ]
     },
     "execution_count": 205,
     "metadata": {},
     "output_type": "execute_result"
    }
   ],
   "source": [
    "story_items.items()"
   ]
  },
  {
   "cell_type": "markdown",
   "metadata": {},
   "source": [
    "## 4. Conditions"
   ]
  },
  {
   "cell_type": "code",
   "execution_count": 211,
   "metadata": {},
   "outputs": [],
   "source": [
    "if 1>2:\n",
    "    print(\"Something is wrong with Math\")"
   ]
  },
  {
   "cell_type": "code",
   "execution_count": 212,
   "metadata": {},
   "outputs": [
    {
     "name": "stdout",
     "output_type": "stream",
     "text": [
      "OK that's good... math is still working!\n"
     ]
    }
   ],
   "source": [
    "if 1>2:\n",
    "    print('Something is wrong with math')\n",
    "else:\n",
    "    print(\"OK that's good... math is still working!\")"
   ]
  },
  {
   "cell_type": "markdown",
   "metadata": {},
   "source": [
    "## 5. Loops"
   ]
  },
  {
   "cell_type": "code",
   "execution_count": 227,
   "metadata": {},
   "outputs": [],
   "source": [
    "year_str = '1980 1981 1982 1983 1984 1985 1986 1987 1988 1989 1990 1991 1992 1993 1994 1995 1996 1997 1998 1999 2000 2001 2002 2003 2004 2005 2006 2007 2008 2009 2010 2011 2012 2013 2014 2015 2016 2017'"
   ]
  },
  {
   "cell_type": "code",
   "execution_count": 228,
   "metadata": {},
   "outputs": [],
   "source": [
    "years = year_str.split()"
   ]
  },
  {
   "cell_type": "code",
   "execution_count": 229,
   "metadata": {},
   "outputs": [
    {
     "data": {
      "text/plain": [
       "38"
      ]
     },
     "execution_count": 229,
     "metadata": {},
     "output_type": "execute_result"
    }
   ],
   "source": [
    "len(years)"
   ]
  },
  {
   "cell_type": "code",
   "execution_count": 230,
   "metadata": {},
   "outputs": [
    {
     "data": {
      "text/plain": [
       "['1980', '1981', '1982', '1983', '1984']"
      ]
     },
     "execution_count": 230,
     "metadata": {},
     "output_type": "execute_result"
    }
   ],
   "source": [
    "years[0:5]"
   ]
  },
  {
   "cell_type": "code",
   "execution_count": 238,
   "metadata": {},
   "outputs": [
    {
     "name": "stdout",
     "output_type": "stream",
     "text": [
      "1980\n",
      "1981\n",
      "1982\n",
      "1983\n",
      "1984\n"
     ]
    }
   ],
   "source": [
    "print(years[0])\n",
    "print(years[1])\n",
    "print(years[2])\n",
    "print(years[3])\n",
    "print(years[4])"
   ]
  },
  {
   "cell_type": "code",
   "execution_count": 239,
   "metadata": {},
   "outputs": [
    {
     "name": "stdout",
     "output_type": "stream",
     "text": [
      "1980\n",
      "1981\n",
      "1982\n",
      "1983\n",
      "1984\n"
     ]
    }
   ],
   "source": [
    "for year in years[0:5]:\n",
    "    print(year)"
   ]
  },
  {
   "cell_type": "code",
   "execution_count": 232,
   "metadata": {},
   "outputs": [],
   "source": [
    "monitored = [34,\n",
    " 43,\n",
    " 46,\n",
    " 26,\n",
    " 35,\n",
    " 21,\n",
    " 29,\n",
    " 30,\n",
    " 46,\n",
    " 40,\n",
    " 35,\n",
    " 42,\n",
    " 41,\n",
    " 43,\n",
    " 60,\n",
    " 71,\n",
    " 76,\n",
    " 70,\n",
    " 58,\n",
    " 65,\n",
    " 84,\n",
    " 82,\n",
    " 81,\n",
    " 80,\n",
    " 78,\n",
    " 91,\n",
    " 92,\n",
    " 86,\n",
    " 87,\n",
    " 97,\n",
    " 85,\n",
    " 92,\n",
    " 112,\n",
    " 88,\n",
    " 94,\n",
    " 101,\n",
    " 106,\n",
    " 99]"
   ]
  },
  {
   "cell_type": "code",
   "execution_count": 233,
   "metadata": {},
   "outputs": [
    {
     "data": {
      "text/plain": [
       "38"
      ]
     },
     "execution_count": 233,
     "metadata": {},
     "output_type": "execute_result"
    }
   ],
   "source": [
    "len(monitored)"
   ]
  },
  {
   "cell_type": "code",
   "execution_count": 240,
   "metadata": {},
   "outputs": [
    {
     "data": {
      "text/plain": [
       "2546"
      ]
     },
     "execution_count": 240,
     "metadata": {},
     "output_type": "execute_result"
    }
   ],
   "source": [
    "sum(monitored)"
   ]
  },
  {
   "cell_type": "code",
   "execution_count": 241,
   "metadata": {},
   "outputs": [
    {
     "data": {
      "text/plain": [
       "67.0"
      ]
     },
     "execution_count": 241,
     "metadata": {},
     "output_type": "execute_result"
    }
   ],
   "source": [
    "sum(monitored)/len(monitored)"
   ]
  },
  {
   "cell_type": "code",
   "execution_count": 93,
   "metadata": {},
   "outputs": [
    {
     "name": "stdout",
     "output_type": "stream",
     "text": [
      "1980 34 \n",
      "1981 43 increase\n",
      "1982 46 increase\n",
      "1983 26 decrease\n",
      "1984 35 increase\n",
      "1985 21 decrease\n",
      "1986 29 increase\n",
      "1987 30 increase\n",
      "1988 46 increase\n",
      "1989 40 decrease\n",
      "1990 35 decrease\n",
      "1991 42 increase\n",
      "1992 41 decrease\n",
      "1993 43 increase\n",
      "1994 60 increase\n",
      "1995 71 increase\n",
      "1996 76 increase\n",
      "1997 70 decrease\n",
      "1998 58 decrease\n",
      "1999 65 increase\n",
      "2000 84 increase\n",
      "2001 82 decrease\n",
      "2002 81 decrease\n",
      "2003 80 decrease\n",
      "2004 78 decrease\n",
      "2005 91 increase\n",
      "2006 92 increase\n",
      "2007 86 decrease\n",
      "2008 87 increase\n",
      "2009 97 increase\n",
      "2010 85 decrease\n",
      "2011 92 increase\n",
      "2012 112 increase\n",
      "2013 88 decrease\n",
      "2014 94 increase\n",
      "2015 101 increase\n",
      "2016 106 increase\n",
      "2017 99 decrease\n"
     ]
    }
   ],
   "source": [
    "for i in range(len(monitored)):\n",
    "    if i>0:\n",
    "        if monitored[i]>monitored[i-1]:\n",
    "            change='increase'\n",
    "        elif monitored[i]<monitored[i-1]:\n",
    "            change='decrease'\n",
    "        else:\n",
    "            change='same'\n",
    "      \n",
    "    else:\n",
    "        change=''\n",
    "        \n",
    "    print(year[i], monitored[i], change)"
   ]
  },
  {
   "cell_type": "code",
   "execution_count": 234,
   "metadata": {},
   "outputs": [],
   "source": [
    "import matplotlib.pyplot as plt"
   ]
  },
  {
   "cell_type": "code",
   "execution_count": 235,
   "metadata": {},
   "outputs": [
    {
     "data": {
      "text/plain": [
       "<matplotlib.axes._subplots.AxesSubplot at 0x7fde99c0f0b8>"
      ]
     },
     "execution_count": 235,
     "metadata": {},
     "output_type": "execute_result"
    },
    {
     "data": {
      "image/png": "[encoded data removed]",
      "text/plain": [
       "<Figure size 864x288 with 1 Axes>"
      ]
     },
     "metadata": {
      "needs_background": "light"
     },
     "output_type": "display_data"
    }
   ],
   "source": [
    "plt.figure(figsize=(12,4))\n",
    "bdata['monitored'].plot(style='-o')"
   ]
  },
  {
   "cell_type": "code",
   "execution_count": 236,
   "metadata": {},
   "outputs": [
    {
     "data": {
      "image/png": "[encoded data removed]",
      "text/plain": [
       "<Figure size 864x288 with 1 Axes>"
      ]
     },
     "metadata": {
      "needs_background": "light"
     },
     "output_type": "display_data"
    }
   ],
   "source": [
    "plt.figure(figsize=(12,4))\n",
    "plt.plot(monitored, '-o')\n",
    "plt.xticks(range(len(year)),year, rotation=90);\n",
    "plt.xlabel('year');\n",
    "plt.ylabel('# bears monitored');\n",
    "plt.title('Number of bears monitored in Yellowstone 1980-2017', size=20);"
   ]
  }
 ],
 "metadata": {
  "kernelspec": {
   "display_name": "Python 3",
   "language": "python",
   "name": "python3"
  },
  "language_info": {
   "codemirror_mode": {
    "name": "ipython",
    "version": 3
   },
   "file_extension": ".py",
   "mimetype": "text/x-python",
   "name": "python",
   "nbconvert_exporter": "python",
   "pygments_lexer": "ipython3",
   "version": "3.7.3"
  }
 },
 "nbformat": 4,
 "nbformat_minor": 2
}
